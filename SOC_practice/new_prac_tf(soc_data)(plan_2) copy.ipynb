{
 "cells": [
  {
   "cell_type": "code",
   "execution_count": 1,
   "metadata": {},
   "outputs": [
    {
     "name": "stdout",
     "output_type": "stream",
     "text": [
      "cuda:0\n"
     ]
    }
   ],
   "source": [
    "import os\n",
    "import time\n",
    "\n",
    "import numpy as np\n",
    "import pandas as pd\n",
    "import matplotlib.pyplot as plt\n",
    "\n",
    "import torch\n",
    "import torch.nn as nn\n",
    "import torch.nn.functional as F\n",
    "import math\n",
    "from torch import nn, Tensor, TupleType\n",
    "from torch.nn import Transformer\n",
    "\n",
    "from torch.utils.data import TensorDataset, DataLoader, Dataset, random_split\n",
    "from torch.autograd import Variable\n",
    "from tqdm import tqdm\n",
    "from sklearn.preprocessing import StandardScaler, MinMaxScaler\n",
    "from sklearn.model_selection import train_test_split  \n",
    "\n",
    "device = torch.device('cuda:0' if torch.cuda.is_available() else 'cpu')\n",
    "print(device)"
   ]
  },
  {
   "cell_type": "code",
   "execution_count": 2,
   "metadata": {},
   "outputs": [],
   "source": [
    "mm_scaler = MinMaxScaler()\n",
    "\n",
    "class StrideDataset(Dataset):\n",
    "    def __init__(self, file_path, enc_seq_len, target_seq_len, x_size, stride=5):\n",
    "        df = pd.read_csv(file_path)\n",
    "\n",
    "        self.data = df.iloc[x_size:, 13:14].values\n",
    "        self.data = self.data.squeeze()\n",
    "        self.data = mm_scaler.fit_transform(self.data.reshape(-1, 1))\n",
    "        self.data = self.data.squeeze()   \n",
    "        \n",
    "        self.length = len(df) - x_size\n",
    "\n",
    "        num_samples = (self.length - enc_seq_len - target_seq_len) // stride + 1 #stride씩 움직일 때 생기는 총 sample 개수\n",
    "        \n",
    "        src = np.zeros([enc_seq_len, num_samples])\n",
    "        trg = np.zeros([target_seq_len, num_samples])\n",
    "\n",
    "\n",
    "        for i in np.arange(num_samples):\n",
    "            start_x = stride*i\n",
    "            end_x = start_x + enc_seq_len\n",
    "            src[:,i] = self.data[start_x:end_x]\n",
    "\n",
    "            start_y = stride*i + enc_seq_len\n",
    "            end_y = start_y + target_seq_len\n",
    "            trg[:,i] = self.data[start_y:end_y]\n",
    "\n",
    "        src = src.reshape(src.shape[0], src.shape[1], 1).transpose((1,0,2))\n",
    "        trg = trg.reshape(trg.shape[0], trg.shape[1], 1).transpose((1,0,2))\n",
    "        self.src = src\n",
    "        self.trg = trg\n",
    "\n",
    "        self.len = len(src)\n",
    "\n",
    "    def __getitem__(self, i):\n",
    "        return self.src[i], self.trg[i]\n",
    "    \n",
    "    def __len__(self):\n",
    "        return self.len"
   ]
  },
  {
   "cell_type": "code",
   "execution_count": 3,
   "metadata": {},
   "outputs": [],
   "source": [
    "class CustomDataset(Dataset):\n",
    "    def __init__(self, file_path, x_size):\n",
    "        df = pd.read_csv(file_path)\n",
    "\n",
    "        self.x = df.iloc[x_size:, 6:10].values\n",
    "        #self.x = np.reshape(x, (x.shape[0], 1, x.shape[1]))\n",
    "        self.y = df.iloc[x_size:, 13:14].values\n",
    "        \n",
    "        self.length = len(df) - x_size\n",
    "\n",
    "    #getitem이거 왜씀?\n",
    "    def __getitem__(self, index):\n",
    "        # x = torch.FloatTensor([self.x[index]])\n",
    "        # y = torch.FloatTensor([self.y[index]])\n",
    "        # return x, y\n",
    "        feature = torch.FloatTensor([self.x[index]])\n",
    "        label = torch.FloatTensor(self.y[index])\n",
    "\n",
    "        return feature, label\n",
    "\n",
    "    def __len__(self):\n",
    "        return self.length"
   ]
  },
  {
   "cell_type": "code",
   "execution_count": 4,
   "metadata": {},
   "outputs": [],
   "source": [
    "train_dataset = StrideDataset(\"DST_80.csv\", 10, 1, 1919, stride=1)\n",
    "train_dataloader = DataLoader(train_dataset, batch_size=128, shuffle=False, drop_last=False)\n",
    "dataset_d = CustomDataset(\"DST_80.csv\", 1919)"
   ]
  },
  {
   "cell_type": "code",
   "execution_count": 5,
   "metadata": {},
   "outputs": [
    {
     "data": {
      "text/plain": [
       "[<matplotlib.lines.Line2D at 0x24cadae38e0>,\n",
       " <matplotlib.lines.Line2D at 0x24cadae3940>,\n",
       " <matplotlib.lines.Line2D at 0x24cadae3970>,\n",
       " <matplotlib.lines.Line2D at 0x24cadae3a60>,\n",
       " <matplotlib.lines.Line2D at 0x24cadae3b50>,\n",
       " <matplotlib.lines.Line2D at 0x24cadae3c40>,\n",
       " <matplotlib.lines.Line2D at 0x24cadae3d30>,\n",
       " <matplotlib.lines.Line2D at 0x24cadae3e20>,\n",
       " <matplotlib.lines.Line2D at 0x24cadae3f10>,\n",
       " <matplotlib.lines.Line2D at 0x24cadb18040>]"
      ]
     },
     "execution_count": 5,
     "metadata": {},
     "output_type": "execute_result"
    },
    {
     "data": {
      "image/png": "[encoded data removed]",
      "text/plain": [
       "<Figure size 640x480 with 1 Axes>"
      ]
     },
     "metadata": {},
     "output_type": "display_data"
    }
   ],
   "source": [
    "plt.plot(train_dataset.src.squeeze())"
   ]
  },
  {
   "cell_type": "code",
   "execution_count": 6,
   "metadata": {},
   "outputs": [
    {
     "name": "stdout",
     "output_type": "stream",
     "text": [
      "(10629, 10, 1)\n",
      "(10629, 1, 1)\n"
     ]
    }
   ],
   "source": [
    "print(train_dataset.src.shape)\n",
    "print(train_dataset.trg.shape)"
   ]
  },
  {
   "cell_type": "code",
   "execution_count": 7,
   "metadata": {},
   "outputs": [
    {
     "name": "stdout",
     "output_type": "stream",
     "text": [
      "(10639, 1)\n",
      "(10639, 1)\n"
     ]
    }
   ],
   "source": [
    "print(dataset_d.y.shape)\n",
    "print(dataset_d.y.shape)"
   ]
  },
  {
   "cell_type": "code",
   "execution_count": 8,
   "metadata": {},
   "outputs": [],
   "source": [
    "class TFModel(nn.Module):\n",
    "    def __init__(self,iw, ow, d_model, nhead, nlayers, dropout=0.5):\n",
    "        super(TFModel, self).__init__()\n",
    "        self.model_type = 'Transformer'\n",
    "\n",
    "        self.src_mask = None\n",
    "        self.pos_encoder = PositionalEncoding(d_model, dropout)\n",
    "        self.encoder_layer = nn.TransformerEncoderLayer(d_model=d_model, nhead=nhead, dropout=dropout)\n",
    "        self.transformer_encoder = nn.TransformerEncoder(self.encoder_layer, num_layers=nlayers)        \n",
    "        self.decoder = nn.Linear(d_model,1)\n",
    "\n",
    "    def _generate_square_subsequent_mask(self, sz):\n",
    "        mask = (torch.triu(torch.ones(sz, sz)) == 1).transpose(0, 1)\n",
    "        mask = mask.float().masked_fill(mask == 0, float('-inf')).masked_fill(mask == 1, float(0.0))\n",
    "        return mask\n",
    "\n",
    "    def forward(self, src):\n",
    "        if self.src_mask is None or self.src_mask.size(0) != len(src):\n",
    "            device = src.device\n",
    "            mask = self._generate_square_subsequent_mask(len(src)).to(device)\n",
    "            self.src_mask = mask\n",
    "\n",
    "        src = self.pos_encoder(src)\n",
    "        output = self.transformer_encoder(src, self.src_mask)\n",
    "        output = self.decoder(output)\n",
    "        return output\n",
    "\n",
    "class PositionalEncoding(nn.Module):\n",
    "    def __init__(self, d_model, dropout=0.1, max_len=5000):\n",
    "        super(PositionalEncoding, self).__init__()\n",
    "        self.dropout = nn.Dropout(p=dropout)\n",
    "\n",
    "        pe = torch.zeros(max_len, d_model)\n",
    "        position = torch.arange(0, max_len, dtype=torch.float).unsqueeze(1)\n",
    "        div_term = torch.exp(torch.arange(0, d_model, 2).float() * (-math.log(10000.0) / d_model))\n",
    "        pe[:, 0::2] = torch.sin(position * div_term)\n",
    "        pe[:, 1::2] = torch.cos(position * div_term)\n",
    "        pe = pe.unsqueeze(0).transpose(0, 1)\n",
    "        self.register_buffer('pe', pe)\n",
    "\n",
    "    def forward(self, x):\n",
    "        x = x + self.pe[:x.size(0), :]\n",
    "        return self.dropout(x)\n",
    "\n",
    "def gen_attention_mask(x):\n",
    "    mask = torch.eq(x, 0)\n",
    "    return mask"
   ]
  },
  {
   "cell_type": "code",
   "execution_count": 9,
   "metadata": {},
   "outputs": [],
   "source": [
    "lr = 0.0001\n",
    "model = TFModel(10, 1, 512, 8, 4, 0.1).to(device)\n",
    "criterion = nn.MSELoss()\n",
    "optimizer = torch.optim.Adam(model.parameters(), lr=lr)"
   ]
  },
  {
   "cell_type": "code",
   "execution_count": 10,
   "metadata": {},
   "outputs": [
    {
     "name": "stderr",
     "output_type": "stream",
     "text": [
      "  0%|          | 0/100 [00:00<?, ?it/s]c:\\Users\\USER\\AppData\\Local\\Programs\\Python\\Python310\\lib\\site-packages\\torch\\nn\\modules\\loss.py:536: UserWarning: Using a target size (torch.Size([1, 1])) that is different to the input size (torch.Size([128, 10, 1])). This will likely lead to incorrect results due to broadcasting. Please ensure they have the same size.\n",
      "  return F.mse_loss(input, target, reduction=self.reduction)\n",
      "c:\\Users\\USER\\AppData\\Local\\Programs\\Python\\Python310\\lib\\site-packages\\torch\\nn\\modules\\loss.py:536: UserWarning: Using a target size (torch.Size([1, 1])) that is different to the input size (torch.Size([5, 10, 1])). This will likely lead to incorrect results due to broadcasting. Please ensure they have the same size.\n",
      "  return F.mse_loss(input, target, reduction=self.reduction)\n",
      "loss: 0.048358: 100%|██████████| 100/100 [03:43<00:00,  2.23s/it]\n"
     ]
    }
   ],
   "source": [
    "epoch = 100\n",
    "model.train()\n",
    "progress = tqdm(range(epoch))\n",
    "\n",
    "\n",
    "for i in progress:\n",
    "    batchloss = 0.0\n",
    "    for (inputs, outputs) in train_dataloader:\n",
    "        optimizer.zero_grad()\n",
    "        result = model(inputs.float().to(device))\n",
    "        loss = criterion(result, outputs[0,:,:].float().to(device))\n",
    "        loss.backward()\n",
    "        optimizer.step()\n",
    "        batchloss += loss\n",
    "    progress.set_description(\"loss: {:0.6f}\".format(batchloss.cpu().item() / len(train_dataloader)))\n",
    "    \n",
    "\n",
    "\n",
    "\n",
    "    # for i in progress:\n",
    "    # batchloss = 0.0\n",
    "\n",
    "    # for (inputs, tgt, tgt_y) in train_dataloader:\n",
    "    #     optimizer.zero_grad()\n",
    "\n",
    "    #     result = model(src.float().to(device), tgt.float().to(device), src_mask, tgt_mask)\n",
    "    #     loss = loss_func(result, tgt_y.float().to(device))\n",
    "\n",
    "    #     loss.backward()\n",
    "    #     optimizer.step()\n",
    "    #     batchloss += loss\n",
    "        \n",
    "    # progress.set_description(\"{:0.5f}\".format(batchloss.cpu().item() / len(train_dataloader)))#??"
   ]
  },
  {
   "cell_type": "code",
   "execution_count": 23,
   "metadata": {},
   "outputs": [],
   "source": [
    "eval_dataset = StrideDataset(\"DST_80.csv\", 10, 1, 1919, stride=1)\n",
    "eval_dataloader = DataLoader(eval_dataset, batch_size=128, shuffle=False, drop_last=False)"
   ]
  },
  {
   "cell_type": "code",
   "execution_count": 26,
   "metadata": {},
   "outputs": [
    {
     "name": "stdout",
     "output_type": "stream",
     "text": [
      "torch.Size([128, 10, 1])\n",
      "torch.Size([128, 10, 1])\n",
      "torch.Size([128, 10, 1])\n",
      "torch.Size([128, 10, 1])\n",
      "torch.Size([128, 10, 1])\n",
      "torch.Size([128, 10, 1])\n",
      "torch.Size([128, 10, 1])\n",
      "torch.Size([128, 10, 1])\n",
      "torch.Size([128, 10, 1])\n",
      "torch.Size([128, 10, 1])\n",
      "torch.Size([128, 10, 1])\n",
      "torch.Size([128, 10, 1])\n",
      "torch.Size([128, 10, 1])\n",
      "torch.Size([128, 10, 1])\n",
      "torch.Size([128, 10, 1])\n",
      "torch.Size([128, 10, 1])\n",
      "torch.Size([128, 10, 1])\n",
      "torch.Size([128, 10, 1])\n",
      "torch.Size([128, 10, 1])\n",
      "torch.Size([128, 10, 1])\n",
      "torch.Size([128, 10, 1])\n",
      "torch.Size([128, 10, 1])\n",
      "torch.Size([128, 10, 1])\n",
      "torch.Size([128, 10, 1])\n",
      "torch.Size([128, 10, 1])\n",
      "torch.Size([128, 10, 1])\n",
      "torch.Size([128, 10, 1])\n",
      "torch.Size([128, 10, 1])\n",
      "torch.Size([128, 10, 1])\n",
      "torch.Size([128, 10, 1])\n",
      "torch.Size([128, 10, 1])\n",
      "torch.Size([128, 10, 1])\n",
      "torch.Size([128, 10, 1])\n",
      "torch.Size([128, 10, 1])\n",
      "torch.Size([128, 10, 1])\n",
      "torch.Size([128, 10, 1])\n",
      "torch.Size([128, 10, 1])\n",
      "torch.Size([128, 10, 1])\n",
      "torch.Size([128, 10, 1])\n",
      "torch.Size([128, 10, 1])\n",
      "torch.Size([128, 10, 1])\n",
      "torch.Size([128, 10, 1])\n",
      "torch.Size([128, 10, 1])\n",
      "torch.Size([128, 10, 1])\n",
      "torch.Size([128, 10, 1])\n",
      "torch.Size([128, 10, 1])\n",
      "torch.Size([128, 10, 1])\n",
      "torch.Size([128, 10, 1])\n",
      "torch.Size([128, 10, 1])\n",
      "torch.Size([128, 10, 1])\n",
      "torch.Size([128, 10, 1])\n",
      "torch.Size([128, 10, 1])\n",
      "torch.Size([128, 10, 1])\n",
      "torch.Size([128, 10, 1])\n",
      "torch.Size([128, 10, 1])\n",
      "torch.Size([128, 10, 1])\n",
      "torch.Size([128, 10, 1])\n",
      "torch.Size([128, 10, 1])\n",
      "torch.Size([128, 10, 1])\n",
      "torch.Size([128, 10, 1])\n",
      "torch.Size([128, 10, 1])\n",
      "torch.Size([128, 10, 1])\n",
      "torch.Size([128, 10, 1])\n",
      "torch.Size([128, 10, 1])\n",
      "torch.Size([128, 10, 1])\n",
      "torch.Size([128, 10, 1])\n",
      "torch.Size([128, 10, 1])\n",
      "torch.Size([128, 10, 1])\n",
      "torch.Size([128, 10, 1])\n",
      "torch.Size([128, 10, 1])\n",
      "torch.Size([128, 10, 1])\n",
      "torch.Size([128, 10, 1])\n",
      "torch.Size([128, 10, 1])\n",
      "torch.Size([128, 10, 1])\n",
      "torch.Size([128, 10, 1])\n",
      "torch.Size([128, 10, 1])\n",
      "torch.Size([128, 10, 1])\n",
      "torch.Size([128, 10, 1])\n",
      "torch.Size([128, 10, 1])\n",
      "torch.Size([128, 10, 1])\n",
      "torch.Size([128, 10, 1])\n",
      "torch.Size([128, 10, 1])\n",
      "torch.Size([128, 10, 1])\n",
      "torch.Size([5, 10, 1])\n",
      "torch.Size([106290])\n"
     ]
    }
   ],
   "source": [
    "model.eval()\n",
    "\n",
    "predictions = torch.Tensor(0)\n",
    "actual = torch.Tensor(0)\n",
    "\n",
    "with torch.no_grad():\n",
    "    for (inputs, outputs) in eval_dataloader:\n",
    "                \n",
    "        result = model(inputs.float().to(device))\n",
    "        print(result.shape)\n",
    "\n",
    "        predictions = torch.cat((predictions, result.view(-1).cpu()), 0)\n",
    "\n",
    "\n",
    "\n",
    "\n",
    "print(predictions.shape)\n",
    "\n",
    "\n",
    "\n",
    "# model.eval()\n",
    "\n",
    "# predictions = torch.Tensor(0)\n",
    "# actual = torch.Tensor(0)\n",
    "\n",
    "\n",
    "\n",
    "# with torch.no_grad():\n",
    "#     for (inputs, dec_input, outputs) in eval_dataloader:\n",
    "#         src_mask = model.generate_square_subsequent_mask(inputs.shape[1]).to(device)\n",
    "#         tgt_mask = model.generate_square_subsequent_mask(dec_input.shape[1]).to(device)\n",
    "\n",
    "#         output = model(inputs.float().to(device), dec_input.float().to(device), src_mask, tgt_mask)\n",
    "        \n",
    "#         predictions = torch.cat((predictions, output[-1].view(-1).cpu()), 0)\n",
    "#         actual = torch.cat((actual, outputs[-1].view(-1).cpu()), 0)\n",
    "\n",
    "\n",
    "# print(predictions.shape)"
   ]
  },
  {
   "cell_type": "code",
   "execution_count": null,
   "metadata": {},
   "outputs": [],
   "source": [
    "predictions = mm_scaler.inverse_transform(predictions.reshape(-1,1))"
   ]
  },
  {
   "cell_type": "code",
   "execution_count": 25,
   "metadata": {},
   "outputs": [
    {
     "name": "stdout",
     "output_type": "stream",
     "text": [
      "torch.Size([840])\n"
     ]
    }
   ],
   "source": [
    "print(predictions.shape)"
   ]
  },
  {
   "cell_type": "code",
   "execution_count": 28,
   "metadata": {},
   "outputs": [
    {
     "data": {
      "text/plain": [
       "[<matplotlib.lines.Line2D at 0x24d8400e410>]"
      ]
     },
     "execution_count": 28,
     "metadata": {},
     "output_type": "execute_result"
    },
    {
     "data": {
      "image/png": "[encoded data removed]",
      "text/plain": [
       "<Figure size 2000x500 with 1 Axes>"
      ]
     },
     "metadata": {},
     "output_type": "display_data"
    }
   ],
   "source": [
    "plt.figure(figsize=(20,5))\n",
    "#plt.plot(range(20000-639,20000),dataset_d.y[20000-639:], label=\"real\")\n",
    "plt.plot(predictions, label=\"predict\")\n",
    "plt.plot(dataset_d.y[500:], label=\"real\")\n",
    "# plt.xlim([0, 100])\n",
    "# plt.ylim([38.57, 38.60])\n",
    "\n",
    "# plt.legend()\n",
    "# plt.show()"
   ]
  },
  {
   "cell_type": "code",
   "execution_count": null,
   "metadata": {},
   "outputs": [],
   "source": [
    "import torch, gc\n",
    "gc.collect()\n",
    "torch.cuda.empty_cache()"
   ]
  }
 ],
 "metadata": {
  "kernelspec": {
   "display_name": "Python 3",
   "language": "python",
   "name": "python3"
  },
  "language_info": {
   "codemirror_mode": {
    "name": "ipython",
    "version": 3
   },
   "file_extension": ".py",
   "mimetype": "text/x-python",
   "name": "python",
   "nbconvert_exporter": "python",
   "pygments_lexer": "ipython3",
   "version": "3.10.9"
  },
  "orig_nbformat": 4
 },
 "nbformat": 4,
 "nbformat_minor": 2
}
