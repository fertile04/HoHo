{
 "cells": [
  {
   "cell_type": "code",
   "execution_count": 4,
   "metadata": {},
   "outputs": [
    {
     "ename": "NameError",
     "evalue": "name '_C' is not defined",
     "output_type": "error",
     "traceback": [
      "\u001b[1;31m---------------------------------------------------------------------------\u001b[0m",
      "\u001b[1;31mNameError\u001b[0m                                 Traceback (most recent call last)",
      "Cell \u001b[1;32mIn[4], line 8\u001b[0m\n\u001b[0;32m      5\u001b[0m \u001b[38;5;28;01mimport\u001b[39;00m \u001b[38;5;21;01mpandas\u001b[39;00m \u001b[38;5;28;01mas\u001b[39;00m \u001b[38;5;21;01mpd\u001b[39;00m\n\u001b[0;32m      6\u001b[0m \u001b[38;5;28;01mimport\u001b[39;00m \u001b[38;5;21;01mmatplotlib\u001b[39;00m\u001b[38;5;21;01m.\u001b[39;00m\u001b[38;5;21;01mpyplot\u001b[39;00m \u001b[38;5;28;01mas\u001b[39;00m \u001b[38;5;21;01mplt\u001b[39;00m\n\u001b[1;32m----> 8\u001b[0m \u001b[38;5;28;01mimport\u001b[39;00m \u001b[38;5;21;01mtorch\u001b[39;00m\n\u001b[0;32m      9\u001b[0m \u001b[38;5;28;01mimport\u001b[39;00m \u001b[38;5;21;01mtorch\u001b[39;00m\u001b[38;5;21;01m.\u001b[39;00m\u001b[38;5;21;01mnn\u001b[39;00m \u001b[38;5;28;01mas\u001b[39;00m \u001b[38;5;21;01mnn\u001b[39;00m\n\u001b[0;32m     10\u001b[0m \u001b[38;5;28;01mimport\u001b[39;00m \u001b[38;5;21;01mtorch\u001b[39;00m\u001b[38;5;21;01m.\u001b[39;00m\u001b[38;5;21;01mnn\u001b[39;00m\u001b[38;5;21;01m.\u001b[39;00m\u001b[38;5;21;01mfunctional\u001b[39;00m \u001b[38;5;28;01mas\u001b[39;00m \u001b[38;5;21;01mF\u001b[39;00m\n",
      "File \u001b[1;32mc:\\Users\\USER\\AppData\\Local\\Programs\\Python\\Python310\\lib\\site-packages\\torch\\__init__.py:457\u001b[0m\n\u001b[0;32m    443\u001b[0m         \u001b[38;5;28;01mraise\u001b[39;00m \u001b[38;5;167;01mImportError\u001b[39;00m(textwrap\u001b[38;5;241m.\u001b[39mdedent(\u001b[38;5;124m'''\u001b[39m\n\u001b[0;32m    444\u001b[0m \u001b[38;5;124m            Failed to load PyTorch C extensions:\u001b[39m\n\u001b[0;32m    445\u001b[0m \u001b[38;5;124m                It appears that PyTorch has loaded the `torch/_C` folder\u001b[39m\n\u001b[1;32m   (...)\u001b[0m\n\u001b[0;32m    453\u001b[0m \u001b[38;5;124m                or by running Python from a different directory.\u001b[39m\n\u001b[0;32m    454\u001b[0m \u001b[38;5;124m            \u001b[39m\u001b[38;5;124m'''\u001b[39m)\u001b[38;5;241m.\u001b[39mstrip()) \u001b[38;5;28;01mfrom\u001b[39;00m \u001b[38;5;28mNone\u001b[39m\n\u001b[0;32m    455\u001b[0m     \u001b[38;5;28;01mraise\u001b[39;00m  \u001b[38;5;66;03m# If __file__ is not None the cause is unknown, so just re-raise.\u001b[39;00m\n\u001b[1;32m--> 457\u001b[0m \u001b[38;5;28;01mfor\u001b[39;00m name \u001b[38;5;129;01min\u001b[39;00m \u001b[38;5;28mdir\u001b[39m(\u001b[43m_C\u001b[49m):\n\u001b[0;32m    458\u001b[0m     \u001b[38;5;28;01mif\u001b[39;00m name[\u001b[38;5;241m0\u001b[39m] \u001b[38;5;241m!=\u001b[39m \u001b[38;5;124m'\u001b[39m\u001b[38;5;124m_\u001b[39m\u001b[38;5;124m'\u001b[39m \u001b[38;5;129;01mand\u001b[39;00m \u001b[38;5;129;01mnot\u001b[39;00m name\u001b[38;5;241m.\u001b[39mendswith(\u001b[38;5;124m'\u001b[39m\u001b[38;5;124mBase\u001b[39m\u001b[38;5;124m'\u001b[39m):\n\u001b[0;32m    459\u001b[0m         __all__\u001b[38;5;241m.\u001b[39mappend(name)\n",
      "\u001b[1;31mNameError\u001b[0m: name '_C' is not defined"
     ]
    }
   ],
   "source": [
    "import os\n",
    "import time\n",
    "\n",
    "import numpy as np\n",
    "import pandas as pd\n",
    "import matplotlib.pyplot as plt\n",
    "\n",
    "import torch\n",
    "import torch.nn as nn\n",
    "import torch.nn.functional as F\n",
    "import math\n",
    "from torch import nn, Tensor, TupleType\n",
    "\n",
    "from torch.nn import Transformer\n",
    "from torch.nn import Transformer_1dcnn\n",
    "\n",
    "\n",
    "\n",
    "\n",
    "\n",
    "from torch.utils.data import TensorDataset, DataLoader, Dataset, random_split\n",
    "from torch.autograd import Variable\n",
    "from tqdm import tqdm\n",
    "from sklearn.preprocessing import StandardScaler, MinMaxScaler\n",
    "from sklearn.model_selection import train_test_split  \n",
    "\n",
    "device = torch.device('cuda:0' if torch.cuda.is_available() else 'cpu')\n",
    "print(device)"
   ]
  },
  {
   "cell_type": "code",
   "execution_count": null,
   "metadata": {},
   "outputs": [],
   "source": [
    "mm_scaler = MinMaxScaler()\n",
    "\n",
    "class StrideDataset(Dataset):\n",
    "    def __init__(self, file_path, enc_seq_len, target_seq_len, x_size, stride=5):\n",
    "        df = pd.read_csv(file_path)\n",
    "        \n",
    "        self.soc = df.iloc[x_size:, 20:21].values #SoC\n",
    "        self.soc = self.soc.squeeze()\n",
    "        self.soc = mm_scaler.fit_transform(self.soc.reshape(-1, 1))\n",
    "        self.soc = self.soc.squeeze()\n",
    "\n",
    "        self.src_v = df.iloc[x_size:, 7:8].values #V\n",
    "        self.src_v = self.src_v.squeeze()\n",
    "        self.src_v = mm_scaler.fit_transform(self.src_v.reshape(-1, 1))\n",
    "        self.src_v = self.src_v.squeeze()\n",
    "\n",
    "        self.src_c = df.iloc[x_size:, 6:7].values #I\n",
    "        self.src_c = self.src_c.squeeze()\n",
    "        self.src_c = mm_scaler.fit_transform(self.src_c.reshape(-1, 1))\n",
    "        self.src_c = self.src_c.squeeze()\n",
    "\n",
    "\n",
    "        self.length = len(df) - x_size\n",
    "\n",
    "        num_samples = (self.length - enc_seq_len - target_seq_len) // stride + 1 #stride씩 움직일 때 생기는 총 sample 개수\n",
    "        \n",
    "        src_v = np.zeros([enc_seq_len, num_samples])\n",
    "        src_c = np.zeros([enc_seq_len, num_samples])\n",
    "        trg = np.zeros([target_seq_len, num_samples])\n",
    "\n",
    "        \n",
    "        for i in np.arange(num_samples):\n",
    "            start_x = stride*i\n",
    "            end_x = start_x + enc_seq_len\n",
    "            src_v[:,i] = self.src_v[start_x:end_x]\n",
    "            src_c[:,i] = self.src_c[start_x:end_x]\n",
    "\n",
    "            start_y = stride*i + enc_seq_len\n",
    "            end_y = start_y + target_seq_len\n",
    "            trg[:,i] = self.soc[start_y:end_y]\n",
    "\n",
    "        src_v = src_v.reshape(src_v.shape[0], src_v.shape[1], 1).transpose((1,0,2))\n",
    "        src_c = src_c.reshape(src_c.shape[0], src_c.shape[1], 1).transpose((1,0,2))\n",
    "        trg = trg.reshape(trg.shape[0], trg.shape[1], 1).transpose((1,0,2))\n",
    "\n",
    "        self.src_v = src_v\n",
    "        self.src_c = src_c\n",
    "        self.trg = trg\n",
    "\n",
    "        self.len = len(src_v)\n",
    "\n",
    "    def __getitem__(self, i):\n",
    "        return self.src_v[i], self.src_c[i], self.trg[i, :-1], self.trg[i, 1:]\n",
    "    \n",
    "    def __len__(self):\n",
    "        return self.len"
   ]
  },
  {
   "cell_type": "code",
   "execution_count": null,
   "metadata": {},
   "outputs": [
    {
     "data": {
      "text/plain": [
       "array([0., 0., 0., 0., 0., 0., 0., 0., 0., 0., 0., 0., 0., 0., 0., 0., 0.,\n",
       "       0., 0.])"
      ]
     },
     "execution_count": 3,
     "metadata": {},
     "output_type": "execute_result"
    }
   ],
   "source": [
    "flag = np.zeros(19)\n",
    "flag_soc = flag + 0.5\n",
    "flag"
   ]
  },
  {
   "cell_type": "code",
   "execution_count": null,
   "metadata": {},
   "outputs": [],
   "source": [
    "class StrideDataset_e(Dataset):\n",
    "    def __init__(self, file_path, enc_seq_len, target_seq_len, x_size, stride=5):\n",
    "        df = pd.read_csv(file_path)\n",
    "        \n",
    "        self.soc = df.iloc[x_size:, 20:21].values #SoC\n",
    "        self.soc = self.soc.squeeze()\n",
    "        self.soc = mm_scaler.fit_transform(self.soc.reshape(-1, 1))\n",
    "        self.soc = self.soc.squeeze()\n",
    "        self.soc = np.concatenate((flag_soc, self.soc))\n",
    "        plt.plot(self.soc)\n",
    "\n",
    "        self.src_v = df.iloc[x_size:, 7:8].values #V\n",
    "        self.src_v = self.src_v.squeeze()\n",
    "        self.src_v = mm_scaler.fit_transform(self.src_v.reshape(-1, 1))\n",
    "        self.src_v = self.src_v.squeeze()\n",
    "        self.src_v = np.concatenate((self.src_v, flag))\n",
    "        \n",
    "\n",
    "        self.src_c = df.iloc[x_size:, 6:7].values #I\n",
    "        self.src_c = self.src_c.squeeze()\n",
    "        self.src_c = mm_scaler.fit_transform(self.src_c.reshape(-1, 1))\n",
    "        self.src_c = self.src_c.squeeze()\n",
    "        self.src_c = np.concatenate((self.src_c, flag))\n",
    "\n",
    "\n",
    "        self.length = len(df) - x_size + 19\n",
    "\n",
    "        num_samples = (self.length - enc_seq_len - target_seq_len) // stride + 1 #stride씩 움직일 때 생기는 총 sample 개수\n",
    "        \n",
    "        src_v = np.zeros([enc_seq_len, num_samples])\n",
    "        src_c = np.zeros([enc_seq_len, num_samples])\n",
    "        trg = np.zeros([target_seq_len, num_samples])\n",
    "\n",
    "\n",
    "        for i in np.arange(num_samples):\n",
    "            start_x = stride*i\n",
    "            end_x = start_x + enc_seq_len\n",
    "            src_v[:,i] = self.src_v[start_x:end_x]\n",
    "            src_c[:,i] = self.src_c[start_x:end_x]\n",
    "\n",
    "            start_y = stride*i + enc_seq_len\n",
    "            end_y = start_y + target_seq_len\n",
    "            trg[:,i] = self.soc[start_y:end_y]\n",
    "\n",
    "        src_v = src_v.reshape(src_v.shape[0], src_v.shape[1], 1).transpose((1,0,2))\n",
    "        src_c = src_c.reshape(src_c.shape[0], src_c.shape[1], 1).transpose((1,0,2))\n",
    "        trg = trg.reshape(trg.shape[0], trg.shape[1], 1).transpose((1,0,2))\n",
    "        print(trg.shape)\n",
    "        \n",
    "        # trg = np.concatenate((flag,trg), 1)\n",
    "        # print(trg.shape)\n",
    "\n",
    "        self.src_v = src_v\n",
    "        self.src_c = src_c\n",
    "        self.trg = trg\n",
    "        \n",
    "        \n",
    "\n",
    "        self.len = len(src_v)\n",
    "\n",
    "    def __getitem__(self, i):\n",
    "        return self.src_v[i], self.src_c[i], self.trg[i, :-1], self.trg[i, 1:]\n",
    "    \n",
    "    def __len__(self):\n",
    "        return self.len"
   ]
  },
  {
   "cell_type": "code",
   "execution_count": null,
   "metadata": {},
   "outputs": [
    {
     "name": "stdout",
     "output_type": "stream",
     "text": [
      "(2209, 20, 1)\n"
     ]
    },
    {
     "data": {
      "image/png": "[encoded data removed]",
      "text/plain": [
       "<Figure size 640x480 with 1 Axes>"
      ]
     },
     "metadata": {},
     "output_type": "display_data"
    }
   ],
   "source": [
    "train_dataset_1 = StrideDataset_e(\"FUDS_80.csv\", 50, 20, 2586, stride=5)\n"
   ]
  },
  {
   "cell_type": "code",
   "execution_count": null,
   "metadata": {},
   "outputs": [],
   "source": [
    "# class StrideDataset_2(Dataset):\n",
    "#     def __init__(self, file_path, enc_seq_len, target_seq_len, x_size, stride=5):\n",
    "#         df = pd.read_csv(file_path)\n",
    "        \n",
    "#         self.data = df.iloc[x_size:, 13:14].values #SoC\n",
    "#         self.data = self.data.squeeze()\n",
    "\n",
    "#         self.length = len(df) - x_size\n",
    "\n",
    "#         num_samples = (self.length - enc_seq_len - target_seq_len) // stride + 1 #stride씩 움직일 때 생기는 총 sample 개수\n",
    "        \n",
    "#         src = np.zeros([enc_seq_len, num_samples])\n",
    "#         trg = np.zeros([target_seq_len, num_samples])\n",
    "\n",
    "\n",
    "#         for i in np.arange(num_samples):\n",
    "#             start_x = stride*i\n",
    "#             end_x = start_x + enc_seq_len\n",
    "#             src[:,i] = self.data[start_x:end_x]\n",
    "\n",
    "#             start_y = stride*i + enc_seq_len\n",
    "#             end_y = start_y + target_seq_len\n",
    "#             trg[:,i] = self.data[start_y:end_y]\n",
    "\n",
    "#         src = src.reshape(src.shape[0], src.shape[1], 1).transpose((1,0,2))\n",
    "#         trg = trg.reshape(trg.shape[0], trg.shape[1], 1).transpose((1,0,2))\n",
    "#         self.src = src\n",
    "#         self.trg = trg\n",
    "\n",
    "#         self.len = len(src)\n",
    "\n",
    "#     def __getitem__(self, i):\n",
    "#         return self.src[i], self.trg[i, :-1], self.trg[i, 1:]\n",
    "    \n",
    "#     def __len__(self):\n",
    "#         return self.len"
   ]
  },
  {
   "cell_type": "code",
   "execution_count": null,
   "metadata": {},
   "outputs": [],
   "source": [
    "flag_y = np.zeros(51)"
   ]
  },
  {
   "cell_type": "code",
   "execution_count": null,
   "metadata": {},
   "outputs": [],
   "source": [
    "class CustomDataset(Dataset):\n",
    "    def __init__(self, file_path, x_size):\n",
    "        df = pd.read_csv(file_path)\n",
    "        #print(df.isnull().sum())\n",
    "\n",
    "        self.x = df.iloc[x_size:, 6:10].values\n",
    "        #self.x = np.reshape(x, (x.shape[0], 1, x.shape[1]))\n",
    "        self.y = df.iloc[x_size:, 20:21].values\n",
    "        \n",
    "        self.length = len(df) - x_size\n",
    "\n",
    "    def __getitem__(self, index):\n",
    "        # x = torch.FloatTensor([self.x[index]])\n",
    "        # y = torch.FloatTensor([self.y[index]])\n",
    "        # return x, y\n",
    "        feature = torch.FloatTensor([self.x[index]])\n",
    "        label = torch.FloatTensor(self.y[index])\n",
    "\n",
    "        return feature, label\n",
    "\n",
    "    def __len__(self):\n",
    "        return self.length"
   ]
  },
  {
   "cell_type": "code",
   "execution_count": null,
   "metadata": {},
   "outputs": [],
   "source": [
    "dataset_d = CustomDataset(\"DST_80.csv\", 1919)\n"
   ]
  },
  {
   "cell_type": "code",
   "execution_count": null,
   "metadata": {},
   "outputs": [],
   "source": [
    "train_dataset_1 = StrideDataset(\"DST_80_45deg.csv\", 50, 20, 2299, stride=5)\n",
    "train_dataset_2 = StrideDataset(\"US06_80_45deg.csv\", 50, 20, 1889, stride=5)\n",
    "# train_dataset_1 = StrideDataset(\"FUDS_80.csv\", 50, 20, 2586, stride=5)\n",
    "# train_dataset_2 = StrideDataset(\"BJDST_80.csv\", 50, 20, 1226, stride=5)\n",
    "\n",
    "train_dataset = torch.utils.data.ConcatDataset([train_dataset_1, train_dataset_2])\n",
    "# train_dataset = train_dataset_1\n",
    "\n",
    "\n",
    "train_dataloader = DataLoader(train_dataset, batch_size=256, shuffle=True, drop_last=False)\n",
    "# dataset_d = CustomDataset(\"DST_80.csv\", 1919)"
   ]
  },
  {
   "cell_type": "code",
   "execution_count": null,
   "metadata": {},
   "outputs": [],
   "source": [
    "# plt.plot(train_dataset_1)\n",
    "# plt.show()\n",
    "# plt.plot(train_dataset.src_v.squeeze())\n",
    "# plt.show()\n",
    "# plt.plot(train_dataset.trg.squeeze())\n",
    "# plt.show()\n"
   ]
  },
  {
   "cell_type": "code",
   "execution_count": null,
   "metadata": {},
   "outputs": [],
   "source": [
    "class TFModel(nn.Module):\n",
    "    def __init__(self, d_model, nhead, nhid, nlayers, dropout=0.5):\n",
    "        super(TFModel, self).__init__()\n",
    "\n",
    "        # self.transformer = Transformer(d_model=d_model, nhead=nhead, dim_feedforward=nhid, num_encoder_layers=nlayers, num_decoder_layers=nlayers,dropout=dropout)\n",
    "        \n",
    "        # self.linear = nn.Linear(d_model, 1)\n",
    "        # self.pos_encoder = PositionalEncoding(d_model, dropout)\n",
    "\n",
    "        # self.encoder = nn.Linear(1, d_model)\n",
    "\n",
    "        self.coder_in = nn.Linear(1,d_model)\n",
    "        \n",
    "        self.conv_in = nn.Sequential(\n",
    "            nn.Conv1d(1, 500, kernel_size=15),\n",
    "            nn.Softmax(dim=1),\n",
    "            nn.Linear(50-15+1, 50) #src-ker+1, src\n",
    "        )\n",
    "        \n",
    "        self.conv_in_dec = nn.Sequential(\n",
    "            nn.Conv1d(1,500,kernel_size=15),\n",
    "            nn.Softmax(dim=1),\n",
    "            nn.Linear(20-15, 20-1) #dec-ker, dec-1\n",
    "        )\n",
    "        \n",
    "        \n",
    "        self.conv_out = nn.Sequential(\n",
    "            nn.Conv1d(500,50,kernel_size=5,stride=3),\n",
    "            #nn.ReLU(),\n",
    "            nn.Conv1d(50,1,kernel_size=3,stride=1),\n",
    "            #nn.ReLU(),\n",
    "            nn.Linear(3,30),\n",
    "            #nn.ReLU(),\n",
    "            nn.Linear(30,19)\n",
    "        )\n",
    "\n",
    "        self.coder_pos = PositionalEncoding(d_model, dropout)\n",
    "\n",
    "        self.encoder_layer = nn.TransformerEncoderLayer(d_model=d_model, nhead=nhead, dropout=dropout)\n",
    "        self.transformer_encoder = nn.TransformerEncoder(self.encoder_layer, num_layers=nlayers)\n",
    "        \n",
    "        #\n",
    "        self.encoder_layer_1dcnn = nn.TransformerEncoderLayer_1dcnn(d_model=d_model, nhead=nhead, dropout=dropout)\n",
    "        self.transformer_encoder_1dcnn = nn.TransformerEncoder_1dcnn(self.encoder_layer_1dcnn, num_layers=nlayers)\n",
    "        #\n",
    "\n",
    "\n",
    "        self.con_lin = nn.Linear(d_model*2, d_model)\n",
    "\n",
    "        self.decoder_layer = nn.TransformerDecoderLayer(d_model=d_model, nhead=nhead, dropout=dropout)\n",
    "        self.transformer_decoder = nn.TransformerDecoder(self.decoder_layer, num_layers=nlayers) #(target, memory) // memort->인코더에서 나온 컨텍스트벡터?\n",
    "        #\n",
    "        self.decoder_layer_1dcnn = nn.TransformerDecoderLayer_1dcnn(d_model=d_model, nhead=nhead, dropout=dropout)\n",
    "        self.transformer_decoder_1dcnn = nn.TransformerDecoder_1dcnn(self.decoder_layer_1dcnn, num_layers=nlayers)\n",
    "        #\n",
    "        \n",
    "        \n",
    "        \n",
    "        \n",
    "        self.linear = nn.Sequential(\n",
    "            nn.Linear(d_model, 1)\n",
    "        )\n",
    "        self.linear_in = nn.Linear(1, d_model)\n",
    "        \n",
    "\n",
    "    def generate_square_subsequent_mask(self, sz):\n",
    "        mask = (torch.triu(torch.ones(sz, sz)) == 1).transpose(0, 1)\n",
    "        mask = mask.float().masked_fill(mask == 0, float('-inf')).masked_fill(mask == 1, float(0.0))\n",
    "        return mask\n",
    "\n",
    "    #def forward(self, src, tgt, srcmask, tgtmask):\n",
    "    def forward(self, src_v, src_c, tgt_s, src_mask_v, src_mask_c, tgtmask):\n",
    "        # src_v = self.coder_in(src_v)\n",
    "        src_v = self.conv_in(src_v.transpose(2,1)).transpose(2,1)\n",
    "        src_v = self.coder_pos(src_v)\n",
    "\n",
    "        src_c = self.coder_in(src_c)\n",
    "        # src_c = self.conv_in(src_c.transpose(2,1)).transpose(2,1)\n",
    "        src_c = self.coder_pos(src_c)\n",
    "\n",
    "        # print(src_v.shape)\n",
    "        # con_v = self.transformer_encoder(src_v.transpose(0,1), src_mask_v).transpose(0,1)  #-> 그냥\n",
    "        con_v = self.transformer_encoder_1dcnn(src_v.transpose(0,1), src_mask_v) #-> 인코더 ff 1dcnn\n",
    "        # print(con_v.shape)\n",
    "        con_c = self.transformer_encoder(src_c.transpose(0,1), src_mask_c).transpose(0,1)\n",
    "        # con_c = self.transformer_encoder_1dcnn(src_c.transpose(0,1), src_mask_c)\n",
    "        \n",
    "        #print(con_v.shape)\n",
    "        #print(con_c.shape)\n",
    "        \n",
    "\n",
    "        con = torch.cat((con_v, con_c), dim=2)\n",
    "        #print(con.shape)\n",
    "        \n",
    "        con = self.con_lin(con)\n",
    "        #print(con.shape)\n",
    "        \n",
    "        \n",
    "        #print(tgt_s.shape)\n",
    "        tgt_s = self.coder_in(tgt_s)\n",
    "        # tgt_s = self.conv_in_dec(tgt_s.transpose(2,1)).transpose(2,1)\n",
    "        tgt_s = self.coder_pos(tgt_s)\n",
    "        \n",
    "        \n",
    "        tgt = self.transformer_decoder(tgt_s.transpose(0,1), con.transpose(0,1)).transpose(0,1)\n",
    "        # tgt = self.transformer_decoder_1dcnn(tgt_s.transpose(0,1), con.transpose(0,1)).transpose(0,1)\n",
    "        # print(tgt.shape)\n",
    "        # tgt = self.linear(tgt)\n",
    "        tgt = self.conv_out(tgt.transpose(2,1)).transpose(2,1)\n",
    "        # print(tgt.shape)\n",
    "\n",
    "        return tgt\n",
    "\n",
    "class PositionalEncoding(nn.Module):\n",
    "    def __init__(self, d_model, dropout=0.1, max_len=5000):\n",
    "        super(PositionalEncoding, self).__init__()\n",
    "        self.dropout = nn.Dropout(p=dropout)\n",
    "\n",
    "        pe = torch.zeros(max_len, d_model)\n",
    "        position = torch.arange(0, max_len, dtype=torch.float).unsqueeze(1)\n",
    "        div_term = torch.exp(torch.arange(0, d_model, 2).float() * (-math.log(10000.0) / d_model))\n",
    "        pe[:, 0::2] = torch.sin(position * div_term)\n",
    "        pe[:, 1::2] = torch.cos(position * div_term)\n",
    "        pe = pe.unsqueeze(0).transpose(0, 1)\n",
    "        self.register_buffer('pe', pe)\n",
    "\n",
    "    def forward(self, x):\n",
    "        x = x + self.pe[:x.size(0), :]\n",
    "        return self.dropout(x)\n",
    "\n",
    "def gen_attention_mask(x):\n",
    "    mask = torch.eq(x, 0)\n",
    "    return mask"
   ]
  },
  {
   "cell_type": "code",
   "execution_count": null,
   "metadata": {},
   "outputs": [],
   "source": []
  },
  {
   "cell_type": "code",
   "execution_count": null,
   "metadata": {},
   "outputs": [],
   "source": [
    "lr = 0.00003\n",
    "model = TFModel(500, 10, 256, 4, 0.1).to(device)\n",
    "criterion = nn.MSELoss()\n",
    "optimizer = torch.optim.AdamW(model.parameters(), lr=lr)"
   ]
  },
  {
   "cell_type": "code",
   "execution_count": null,
   "metadata": {},
   "outputs": [
    {
     "name": "stderr",
     "output_type": "stream",
     "text": [
      "loss: 0.000018: 100%|██████████| 2500/2500 [2:46:50<00:00,  4.00s/it]  \n"
     ]
    }
   ],
   "source": [
    "epoch = 2500\n",
    "model.train()\n",
    "progress = tqdm(range(epoch))\n",
    "\n",
    "loss_arr = list()\n",
    "\n",
    "\n",
    "for i in progress:\n",
    "    batchloss = 0.0\n",
    "    for (inputs_v, inputs_c, dec_inputs, outputs) in train_dataloader:\n",
    "        optimizer.zero_grad()\n",
    "        #print(inputs_v.shape[1])\n",
    "        src_mask_v = model.generate_square_subsequent_mask(inputs_v.shape[1]).to(device)\n",
    "        src_mask_c = model.generate_square_subsequent_mask(inputs_c.shape[1]).to(device)\n",
    "        #print(dec_inputs.shape[1])\n",
    "        tgt_mask = model.generate_square_subsequent_mask(dec_inputs.shape[1]).to(device)\n",
    "        \n",
    "        result = model(inputs_v.float().to(device), inputs_c.float().to(device), dec_inputs.float().to(device), src_mask_v, src_mask_c, tgt_mask)\n",
    "        \n",
    "        #loss = criterion(result.permute(1,0,2), outputs.float().to(device))\n",
    "        loss = criterion(result, outputs.float().to(device))\n",
    "        \n",
    "        \n",
    "        loss.backward()\n",
    "        optimizer.step()\n",
    "        batchloss += loss\n",
    "    \n",
    "        \n",
    "    loss_arr.append((batchloss.cpu().item() / len(train_dataloader)))\n",
    "    progress.set_description(\"loss: {:0.6f}\".format(batchloss.cpu().item() / len(train_dataloader)))\n",
    "\n",
    "\n",
    "\n",
    "\n",
    "    # for i in progress:\n",
    "    # batchloss = 0.0\n",
    "\n",
    "    # for (inputs, tgt, tgt_y) in train_dataloader:\n",
    "    #     optimizer.zero_grad()\n",
    "\n",
    "    #     result = model(src.float().to(device), tgt.float().to(device), src_mask, tgt_mask)\n",
    "    #     loss = loss_func(result, tgt_y.float().to(device))\n",
    "\n",
    "    #     loss.backward()\n",
    "    #     optimizer.step()\n",
    "    #     batchloss += loss\n",
    "    \n",
    "    # progress.set_description(\"{:0.5f}\".format(batchloss.cpu().item() / len(train_dataloader)))#??"
   ]
  },
  {
   "cell_type": "code",
   "execution_count": null,
   "metadata": {},
   "outputs": [
    {
     "ename": "ImportError",
     "evalue": "cannot import name 'ZeroPad1d' from 'torch.nn.modules.padding' (c:\\Users\\USER\\AppData\\Local\\Programs\\Python\\Python310\\lib\\site-packages\\torch\\nn\\modules\\padding.py)",
     "output_type": "error",
     "traceback": [
      "\u001b[1;31m---------------------------------------------------------------------------\u001b[0m",
      "\u001b[1;31mImportError\u001b[0m                               Traceback (most recent call last)",
      "Cell \u001b[1;32mIn[1], line 1\u001b[0m\n\u001b[1;32m----> 1\u001b[0m \u001b[38;5;28;01mimport\u001b[39;00m \u001b[38;5;21;01mtorch\u001b[39;00m\n\u001b[0;32m      2\u001b[0m \u001b[38;5;28;01mimport\u001b[39;00m \u001b[38;5;21;01mtorch\u001b[39;00m\u001b[38;5;21;01m.\u001b[39;00m\u001b[38;5;21;01mnn\u001b[39;00m \u001b[38;5;28;01mas\u001b[39;00m \u001b[38;5;21;01mnn\u001b[39;00m\n\u001b[0;32m      4\u001b[0m batch_size \u001b[38;5;241m=\u001b[39m \u001b[38;5;241m3\u001b[39m\n",
      "File \u001b[1;32mc:\\Users\\USER\\AppData\\Local\\Programs\\Python\\Python310\\lib\\site-packages\\torch\\__init__.py:1187\u001b[0m\n\u001b[0;32m   1180\u001b[0m         __all__\u001b[38;5;241m.\u001b[39mappend(name)\n\u001b[0;32m   1182\u001b[0m \u001b[38;5;66;03m################################################################################\u001b[39;00m\n\u001b[0;32m   1183\u001b[0m \u001b[38;5;66;03m# Import interface functions defined in Python\u001b[39;00m\n\u001b[0;32m   1184\u001b[0m \u001b[38;5;66;03m################################################################################\u001b[39;00m\n\u001b[0;32m   1185\u001b[0m \n\u001b[0;32m   1186\u001b[0m \u001b[38;5;66;03m# needs to be after the above ATen bindings so we can overwrite from Python side\u001b[39;00m\n\u001b[1;32m-> 1187\u001b[0m \u001b[38;5;28;01mfrom\u001b[39;00m \u001b[38;5;21;01m.\u001b[39;00m\u001b[38;5;21;01mfunctional\u001b[39;00m \u001b[38;5;28;01mimport\u001b[39;00m \u001b[38;5;241m*\u001b[39m  \u001b[38;5;66;03m# noqa: F403\u001b[39;00m\n\u001b[0;32m   1190\u001b[0m \u001b[38;5;66;03m################################################################################\u001b[39;00m\n\u001b[0;32m   1191\u001b[0m \u001b[38;5;66;03m# Remove unnecessary members\u001b[39;00m\n\u001b[0;32m   1192\u001b[0m \u001b[38;5;66;03m################################################################################\u001b[39;00m\n\u001b[0;32m   1194\u001b[0m \u001b[38;5;28;01mdel\u001b[39;00m _StorageBase\n",
      "File \u001b[1;32mc:\\Users\\USER\\AppData\\Local\\Programs\\Python\\Python310\\lib\\site-packages\\torch\\functional.py:8\u001b[0m\n\u001b[0;32m      6\u001b[0m \u001b[38;5;28;01mfrom\u001b[39;00m \u001b[38;5;21;01mtorch\u001b[39;00m\u001b[38;5;21;01m.\u001b[39;00m\u001b[38;5;21;01m_C\u001b[39;00m \u001b[38;5;28;01mimport\u001b[39;00m _add_docstr\n\u001b[0;32m      7\u001b[0m \u001b[38;5;28;01mimport\u001b[39;00m \u001b[38;5;21;01mtorch\u001b[39;00m\u001b[38;5;21;01m.\u001b[39;00m\u001b[38;5;21;01mbackends\u001b[39;00m\u001b[38;5;21;01m.\u001b[39;00m\u001b[38;5;21;01mopt_einsum\u001b[39;00m \u001b[38;5;28;01mas\u001b[39;00m \u001b[38;5;21;01mopt_einsum\u001b[39;00m\n\u001b[1;32m----> 8\u001b[0m \u001b[38;5;28;01mimport\u001b[39;00m \u001b[38;5;21;01mtorch\u001b[39;00m\u001b[38;5;21;01m.\u001b[39;00m\u001b[38;5;21;01mnn\u001b[39;00m\u001b[38;5;21;01m.\u001b[39;00m\u001b[38;5;21;01mfunctional\u001b[39;00m \u001b[38;5;28;01mas\u001b[39;00m \u001b[38;5;21;01mF\u001b[39;00m\n\u001b[0;32m      9\u001b[0m \u001b[38;5;28;01mfrom\u001b[39;00m \u001b[38;5;21;01m.\u001b[39;00m\u001b[38;5;21;01m_lowrank\u001b[39;00m \u001b[38;5;28;01mimport\u001b[39;00m svd_lowrank, pca_lowrank\n\u001b[0;32m     10\u001b[0m \u001b[38;5;28;01mfrom\u001b[39;00m \u001b[38;5;21;01m.\u001b[39;00m\u001b[38;5;21;01moverrides\u001b[39;00m \u001b[38;5;28;01mimport\u001b[39;00m (\n\u001b[0;32m     11\u001b[0m     has_torch_function, has_torch_function_unary, has_torch_function_variadic,\n\u001b[0;32m     12\u001b[0m     handle_torch_function)\n",
      "File \u001b[1;32mc:\\Users\\USER\\AppData\\Local\\Programs\\Python\\Python310\\lib\\site-packages\\torch\\nn\\__init__.py:1\u001b[0m\n\u001b[1;32m----> 1\u001b[0m \u001b[38;5;28;01mfrom\u001b[39;00m \u001b[38;5;21;01m.\u001b[39;00m\u001b[38;5;21;01mmodules\u001b[39;00m \u001b[38;5;28;01mimport\u001b[39;00m \u001b[38;5;241m*\u001b[39m  \u001b[38;5;66;03m# noqa: F403\u001b[39;00m\n\u001b[0;32m      2\u001b[0m \u001b[38;5;28;01mfrom\u001b[39;00m \u001b[38;5;21;01m.\u001b[39;00m\u001b[38;5;21;01mparameter\u001b[39;00m \u001b[38;5;28;01mimport\u001b[39;00m (\n\u001b[0;32m      3\u001b[0m     Parameter \u001b[38;5;28;01mas\u001b[39;00m Parameter,\n\u001b[0;32m      4\u001b[0m     UninitializedParameter \u001b[38;5;28;01mas\u001b[39;00m UninitializedParameter,\n\u001b[0;32m      5\u001b[0m     UninitializedBuffer \u001b[38;5;28;01mas\u001b[39;00m UninitializedBuffer,\n\u001b[0;32m      6\u001b[0m )\n\u001b[0;32m      7\u001b[0m \u001b[38;5;28;01mfrom\u001b[39;00m \u001b[38;5;21;01m.\u001b[39;00m\u001b[38;5;21;01mparallel\u001b[39;00m \u001b[38;5;28;01mimport\u001b[39;00m DataParallel \u001b[38;5;28;01mas\u001b[39;00m DataParallel\n",
      "File \u001b[1;32mc:\\Users\\USER\\AppData\\Local\\Programs\\Python\\Python310\\lib\\site-packages\\torch\\nn\\modules\\__init__.py:24\u001b[0m\n\u001b[0;32m     22\u001b[0m \u001b[38;5;28;01mfrom\u001b[39;00m \u001b[38;5;21;01m.\u001b[39;00m\u001b[38;5;21;01mnormalization\u001b[39;00m \u001b[38;5;28;01mimport\u001b[39;00m LocalResponseNorm, CrossMapLRN2d, LayerNorm, GroupNorm\n\u001b[0;32m     23\u001b[0m \u001b[38;5;28;01mfrom\u001b[39;00m \u001b[38;5;21;01m.\u001b[39;00m\u001b[38;5;21;01mdropout\u001b[39;00m \u001b[38;5;28;01mimport\u001b[39;00m Dropout, Dropout1d, Dropout2d, Dropout3d, AlphaDropout, FeatureAlphaDropout\n\u001b[1;32m---> 24\u001b[0m \u001b[38;5;28;01mfrom\u001b[39;00m \u001b[38;5;21;01m.\u001b[39;00m\u001b[38;5;21;01mpadding\u001b[39;00m \u001b[38;5;28;01mimport\u001b[39;00m ReflectionPad1d, ReflectionPad2d, ReflectionPad3d, ReplicationPad1d, ReplicationPad2d, \\\n\u001b[0;32m     25\u001b[0m     ReplicationPad3d, ZeroPad1d, ZeroPad2d, ZeroPad3d, ConstantPad1d, ConstantPad2d, ConstantPad3d, \\\n\u001b[0;32m     26\u001b[0m     CircularPad1d, CircularPad2d, CircularPad3d\n\u001b[0;32m     27\u001b[0m \u001b[38;5;28;01mfrom\u001b[39;00m \u001b[38;5;21;01m.\u001b[39;00m\u001b[38;5;21;01msparse\u001b[39;00m \u001b[38;5;28;01mimport\u001b[39;00m Embedding, EmbeddingBag\n\u001b[0;32m     28\u001b[0m \u001b[38;5;28;01mfrom\u001b[39;00m \u001b[38;5;21;01m.\u001b[39;00m\u001b[38;5;21;01mrnn\u001b[39;00m \u001b[38;5;28;01mimport\u001b[39;00m RNNBase, RNN, LSTM, GRU, \\\n\u001b[0;32m     29\u001b[0m     RNNCellBase, RNNCell, LSTMCell, GRUCell\n",
      "\u001b[1;31mImportError\u001b[0m: cannot import name 'ZeroPad1d' from 'torch.nn.modules.padding' (c:\\Users\\USER\\AppData\\Local\\Programs\\Python\\Python310\\lib\\site-packages\\torch\\nn\\modules\\padding.py)"
     ]
    }
   ],
   "source": [
    "import torch\n",
    "import torch.nn as nn\n",
    "\n",
    "batch_size = 3\n",
    "feature_dim = 256\n",
    "time_step = 16000\n",
    "\n",
    "x = torch.rand(257, 500, 50)\n",
    "\n",
    "conv1d = nn.Conv1d(500, 700, kernel_size=7, stride=5)\n",
    "conv1d_2 = nn.Conv1d(700,700, kernel_size=5, stride=3)\n",
    "li1 = nn.Linear(700,500)\n",
    "li2 = nn.Linear(2,50)\n",
    "\n",
    "out = conv1d(x)\n",
    "print(out.shape)\n",
    "out = conv1d_2(out)\n",
    "out = li2(out)\n",
    "out = li1(out.transpose(1,2)).transpose(1,2)\n",
    "\n",
    "# print('output_size:',out.shape)"
   ]
  },
  {
   "cell_type": "code",
   "execution_count": null,
   "metadata": {},
   "outputs": [
    {
     "name": "stdout",
     "output_type": "stream",
     "text": [
      "output_size: torch.Size([257, 500, 50])\n"
     ]
    }
   ],
   "source": [
    "x = torch.rand(257, 500, 19)\n",
    "\n",
    "conv1d = nn.Conv1d(500, 700, kernel_size=5, stride=3)\n",
    "conv1d_2 = nn.Conv1d(700,700, kernel_size=3, stride=1)\n",
    "li1 = nn.Linear(700,500)\n",
    "li2 = nn.Linear(3,50)\n",
    "\n",
    "out = conv1d(x)\n",
    "out = conv1d_2(out)\n",
    "out = li2(out)\n",
    "out = li1(out.transpose(1,2)).transpose(1,2)\n",
    "\n",
    "print('output_size:',out.shape)"
   ]
  },
  {
   "cell_type": "code",
   "execution_count": null,
   "metadata": {},
   "outputs": [
    {
     "name": "stdout",
     "output_type": "stream",
     "text": [
      "output_size: torch.Size([257, 1, 19])\n"
     ]
    }
   ],
   "source": [
    "import torch\n",
    "import torch.nn as nn\n",
    "x = torch.rand(257, 500, 19)\n",
    "\n",
    "conv1d = nn.Conv1d(500, 50, kernel_size=5, stride=3)\n",
    "conv1d_2 = nn.Conv1d(50,1, kernel_size=3, stride=1)\n",
    "li1 = nn.Linear(3,30)\n",
    "li2 = nn.Linear(30,19)\n",
    "\n",
    "out = conv1d(x)\n",
    "out = conv1d_2(out)\n",
    "out = li1(out)\n",
    "out = li2(out)\n",
    "\n",
    "print('output_size:',out.shape)"
   ]
  },
  {
   "cell_type": "code",
   "execution_count": null,
   "metadata": {},
   "outputs": [
    {
     "data": {
      "text/plain": [
       "[<matplotlib.lines.Line2D at 0x246a9d0beb0>]"
      ]
     },
     "execution_count": 18,
     "metadata": {},
     "output_type": "execute_result"
    },
    {
     "data": {
      "image/png": "[encoded data removed]",
      "text/plain": [
       "<Figure size 640x480 with 1 Axes>"
      ]
     },
     "metadata": {},
     "output_type": "display_data"
    }
   ],
   "source": [
    "plt.plot(loss_arr, label=\"loss\")\n",
    "# print(loss_arr[1500])\n"
   ]
  },
  {
   "cell_type": "code",
   "execution_count": null,
   "metadata": {},
   "outputs": [],
   "source": [
    "class CustomDataset2(Dataset):\n",
    "    def __init__(self, file_path, x_size):\n",
    "        df = pd.read_csv(file_path)\n",
    "        #print(df.isnull().sum())\n",
    "\n",
    "        self.I = df.iloc[x_size:, 6:7].values\n",
    "        #self.x = np.reshape(x, (x.shape[0], 1, x.shape[1]))\n",
    "        # self.y = df.iloc[x_size:, 13:14].values\n",
    "        \n",
    "        self.length = len(df) - x_size\n",
    "\n",
    "    #getitem이거 왜씀?\n",
    "    def __getitem__(self, index):\n",
    "        # x = torch.FloatTensor([self.x[index]])\n",
    "        # y = torch.FloatTensor([self.y[index]])\n",
    "        # return x, y\n",
    "        feature = torch.FloatTensor([self.x[index]])\n",
    "        # label = torch.FloatTensor(self.y[index])\n",
    "\n",
    "        return feature\n",
    "\n",
    "    def __len__(self):\n",
    "        return self.length"
   ]
  },
  {
   "cell_type": "code",
   "execution_count": null,
   "metadata": {},
   "outputs": [],
   "source": [
    "def fx(x_esti, idx):\n",
    "    # return A * x_esti + (dataset_d2.I[idx]*(1/44.72) / (1.648484097)) \n",
    "    return x_esti + (dataset_d2.I[idx]*100*(1.009217) / (1.600182 *3600/0.8)) #US -> 1.648484097 / DST -> 1.594214 / FUDS->1.600182  / BJDST->1.653517646\n",
    "# US -> 1.007828486 / DST -> 1.00612 /  FUDS -> 1.009217  /  BJDST -> 1.001287\n",
    "\n",
    "# @tf.function\n",
    "def __d(K, n):\n",
    "  return (math.factorial(K - 1 + n)) / (math.factorial(K - 1) * math.factorial(n))\n",
    "\n",
    "# @tf.function\n",
    "def PolynomialActivation(x):\n",
    "  # x = x + 0.4\n",
    "  N = 11\n",
    "  K = 6\n",
    "  zeta = 0.5 #y\n",
    "  value = 0.5 #x\n",
    "  dK = 0\n",
    "  Sigmaz = 0\n",
    "  for n in range(0, N - K):\n",
    "    dK = dK + __d(K, n) * math.pow((1 - x), n)\n",
    "  for n in range(0, N - K):\n",
    "    Sigmaz = Sigmaz + __d(K, n) * math.pow((1 - zeta), n)\n",
    "  CNK = (value * (zeta ** (-K)) - Sigmaz) / ((1 - zeta) ** (N - K))\n",
    "  \n",
    "  return np.where(x < 0., 0., \n",
    "                  np.where(x > 1., 1., \n",
    "                           math.pow(x, K) * (dK + (CNK * (math.pow((1 - x), (N - K)))))))\n",
    "  \n",
    "\n",
    "def SOC_fuzzy(SOC_tf, SOC_tf_prev, idx):\n",
    "    # print(-1*PolynomialActivation(abs(SOC_tf - SOC_tf_prev)) + 1)\n",
    "    # print(\" \")\n",
    "    # print(abs(SOC_tf - SOC_tf_prev))\n",
    "    w1 = (-1*PolynomialActivation(abs(SOC_tf - SOC_tf_prev)) + 1)\n",
    "    w2 = 1-w1\n",
    "\n",
    "    return w1*(SOC_tf) + w2*(SOC_tf_prev)"
   ]
  },
  {
   "cell_type": "code",
   "execution_count": null,
   "metadata": {},
   "outputs": [
    {
     "name": "stdout",
     "output_type": "stream",
     "text": [
      "torch.Size([11560])\n",
      "(11629, 1)\n",
      "46\n",
      "(11629, 1)\n",
      "torch.Size([11629])\n",
      "mae :  0.6033428954845396\n",
      "mse :  0.5174290528319198\n",
      "rmse :  0.7193254151160793\n"
     ]
    },
    {
     "data": {
      "image/png": "[encoded data removed]",
      "text/plain": [
       "<Figure size 1000x400 with 1 Axes>"
      ]
     },
     "metadata": {},
     "output_type": "display_data"
    }
   ],
   "source": [
    "eval_dataset = StrideDataset(\"FUDS_80_45deg.csv\", 50, 20, 1891, stride=1)\n",
    "# eval_dataset = StrideDataset(\"BJDST_80.csv\", 50, 20, 1226, stride=1)\n",
    "# eval_dataset = StrideDataset(\"DST_80.csv\", 50, 20, 1919, stride=1)\n",
    "# eval_dataset = StrideDataset(\"US06_80.csv\", 50, 20, 1207, stride=1)\n",
    "eval_dataloader = DataLoader(eval_dataset, batch_size=256, shuffle=False, drop_last=False)\n",
    "\n",
    "# \n",
    "dataset_d = CustomDataset(\"FUDS_80_45deg.csv\", 1891)\n",
    "# dataset_d = CustomDataset(\"BJDST_80.csv\", 1226)\n",
    "# dataset_d = CustomDataset(\"DST_80.csv\", 1919)\n",
    "# dataset_d = CustomDataset(\"US06_80.csv\", 1207)\n",
    "\n",
    "\n",
    "predictions_zerosum = torch.zeros(69)\n",
    "predictions_zerosum.shape\n",
    "predictions_zerosum\n",
    "\n",
    "model.eval()\n",
    "\n",
    "predictions = torch.Tensor(0)\n",
    "actual = torch.Tensor(0)\n",
    "cnt=0\n",
    "\n",
    "with torch.no_grad():\n",
    "    for (inputs_v, inputs_c, dec_inputs, outputs) in eval_dataloader:\n",
    "        src_mask_v = model.generate_square_subsequent_mask(inputs_v.shape[1]).to(device)\n",
    "        src_mask_c = model.generate_square_subsequent_mask(inputs_c.shape[1]).to(device)\n",
    "        tgt_mask = model.generate_square_subsequent_mask(dec_inputs.shape[1]).to(device)\n",
    "        \n",
    "        output = model(inputs_v.float().to(device), inputs_c.float().to(device), dec_inputs.float().to(device), src_mask_v, src_mask_c, tgt_mask)\n",
    "        output = output.permute(1,0,2)\n",
    "        \n",
    "        cnt=cnt+1\n",
    "        predictions = torch.cat((predictions, output[-1].view(-1).cpu()), 0) # view(-1) => 1차원으로 바꾼다 생각\n",
    "        actual = torch.cat((actual, outputs[-1].view(-1).cpu()), 0)\n",
    "\n",
    "\n",
    "print(predictions.shape)\n",
    "print(dataset_d.y.shape)\n",
    "print(cnt)\n",
    "\n",
    "predictions = torch.concat((predictions_zerosum, predictions),0)\n",
    "\n",
    "predictions = predictions * 80.0\n",
    "\n",
    "plt.figure(figsize=(10,4))\n",
    "plt.plot(dataset_d.y[69:], color='red', alpha=0.7)\n",
    "plt.plot(predictions[69:], color='blue', linewidth=0.7)\n",
    "plt.title('Actual vs Forecast')\n",
    "plt.legend(['Actual', 'Forecast'])\n",
    "plt.xlabel('Time Steps')\n",
    "# plt.xlim([2800,3000])\n",
    "# plt.ylim([56.5,60.5])\n",
    "\n",
    "\n",
    "from sklearn.metrics import mean_absolute_error, mean_squared_error\n",
    "\n",
    "print(dataset_d.y.shape)\n",
    "print(predictions.shape)\n",
    "\n",
    "print(\"mae : \", mean_absolute_error(dataset_d.y[69:10000], predictions[69:10000]))\n",
    "print(\"mse : \", mean_squared_error(dataset_d.y[69:10000], predictions[69:10000]))\n",
    "print(\"rmse : \", np.sqrt(mean_squared_error(dataset_d.y[69:10000], predictions[69:10000])))\n",
    "\n",
    "\n"
   ]
  },
  {
   "cell_type": "code",
   "execution_count": null,
   "metadata": {},
   "outputs": [],
   "source": [
    "def error_define(x, y):\n",
    "\n",
    "    error = x-y\n",
    "    return error\n",
    "\n",
    "\n"
   ]
  },
  {
   "cell_type": "code",
   "execution_count": null,
   "metadata": {},
   "outputs": [],
   "source": [
    "# n_samples = 11095\n",
    "# # n_samples = 10639\n",
    "\n",
    "# soc_meas_save = np.zeros(n_samples)\n",
    "# soc_esti_save = np.zeros(n_samples)\n",
    "# test = np.zeros(n_samples)\n",
    "\n",
    "# dataset_d2 = CustomDataset2(\"FUDS_80.csv\", 2586)\n",
    "# # dataset_d2 = CustomDataset2(\"DST_80.csv\", 1919)\n",
    "\n",
    "# for i in range(n_samples):\n",
    "#     z_meas = np.array(predictions[i])\n",
    "#     if i<1:\n",
    "#         z_meas_prev = 80\n",
    "#     else:\n",
    "#         z_meas_prev = np.array(predictions[i-1])\n",
    "    \n",
    "#     # if i == 0:\n",
    "#     #     x_esti = w1*z_meas + w2*80\n",
    "#     # else:\n",
    "#     #     x_esti = w1*z_meas + w2*fx(dataset_d.y[i-1],i)\n",
    "\n",
    "#     x_esti = SOC_fuzzy(z_meas, z_meas_prev, i)\n",
    "\n",
    "#     soc_meas_save[i] = z_meas\n",
    "#     soc_esti_save[i] = x_esti\n",
    "# # for i in range(n_samples):\n",
    "# #     z_meas = np.array(predictions[i])\n",
    "# #     if i<1:\n",
    "# #         z_meas_prev = 80\n",
    "# #     else:\n",
    "# #         z_meas_prev = fx(z_meas_prev, i)\n",
    "    \n",
    "# #     # if i == 0:\n",
    "# #     #     x_esti = w1*z_meas + w2*80\n",
    "# #     # else:\n",
    "# #     #     x_esti = w1*z_meas + w2*fx(dataset_d.y[i-1],i)\n",
    "\n",
    "# #     x_esti = SOC_fuzzy(z_meas, z_meas_prev, i)\n",
    "\n",
    "# #     soc_meas_save[i] = z_meas\n",
    "# #     soc_esti_save[i] = x_esti\n",
    "# #     test[i] = z_meas_prev\n",
    "    \n",
    "# plt.figure(figsize=(10,4))\n",
    "\n",
    "# plt.plot(soc_meas_save[70:], label='Measurements(model soc)')\n",
    "# plt.plot(soc_esti_save[70:], label='fuzzy')\n",
    "# plt.plot(dataset_d.y[70:], label='actual data')\n",
    "# plt.legend(loc='upper right')\n",
    "# plt.title('fuzzy')\n",
    "# plt.xlabel('Time Steps')\n",
    "\n",
    "\n",
    "\n",
    "# print(\"mae : \", mean_absolute_error(dataset_d.y[70:10000], soc_esti_save[70:10000]))\n",
    "# print(\"mse : \", mean_squared_error(dataset_d.y[70:10000], soc_esti_save[70:10000]))\n",
    "# print(\"rmse : \", np.sqrt(mean_squared_error(dataset_d.y[70:10000], soc_esti_save[70:10000])))"
   ]
  },
  {
   "cell_type": "code",
   "execution_count": null,
   "metadata": {},
   "outputs": [],
   "source": [
    "# n_samples = 9710\n",
    "# # n_samples = 10639\n",
    "\n",
    "# soc_meas_save = np.zeros(n_samples)\n",
    "# soc_esti_save = np.zeros(n_samples)\n",
    "# test = np.zeros(n_samples)\n",
    "\n",
    "# dataset_d2 = CustomDataset2(\"FUDS_80_45deg.csv\", 1891)\n",
    "# # dataset_d2 = CustomDataset2(\"DST_80.csv\", 1919)\n",
    "\n",
    "\n",
    "# # for i in range(n_samples):\n",
    "# #     z_meas = np.array(predictions[i])\n",
    "# #     if i<1:\n",
    "# #         z_meas_prev = 80\n",
    "# #     else:\n",
    "# #         z_meas_prev = np.array(predictions[i-1])\n",
    "    \n",
    "# #     # if i == 0:\n",
    "# #     #     x_esti = w1*z_meas + w2*80\n",
    "# #     # else:\n",
    "# #     #     x_esti = w1*z_meas + w2*fx(dataset_d.y[i-1],i)\n",
    "\n",
    "# #     x_esti = SOC_fuzzy(z_meas, z_meas_prev, i)\n",
    "\n",
    "# #     soc_meas_save[i] = z_meas\n",
    "# #     soc_esti_save[i] = x_esti\n",
    "# for i in range(n_samples):\n",
    "#     z_meas = np.array(predictions[i])\n",
    "#     if i<1:\n",
    "#         z_meas_prev = 80\n",
    "#     else:\n",
    "#         z_meas_prev = fx(z_meas_prev, i)\n",
    "    \n",
    "#     # if i == 0:\n",
    "#     #     x_esti = w1*z_meas + w2*80\n",
    "#     # else:\n",
    "#     #     x_esti = w1*z_meas + w2*fx(dataset_d.y[i-1],i)\n",
    "\n",
    "#     x_esti = SOC_fuzzy(z_meas, z_meas_prev, i)\n",
    "\n",
    "#     soc_meas_save[i] = z_meas\n",
    "#     soc_esti_save[i] = x_esti\n",
    "#     test[i] = z_meas_prev\n",
    "    \n",
    "# plt.figure(figsize=(10,4))\n",
    "\n",
    "# plt.plot(soc_meas_save[69:], label='Measurements(model soc)')\n",
    "# plt.plot(soc_esti_save[69:], label='fuzzy')\n",
    "# plt.plot(dataset_d.y[69:], label='actual data')\n",
    "# plt.legend(loc='upper right')\n",
    "# plt.title('fuzzy')\n",
    "# plt.xlabel('Time Steps')\n",
    "\n",
    "\n",
    "\n",
    "# print(\"mae : \", mean_absolute_error(dataset_d.y[69:10000], soc_esti_save[69:10000]))\n",
    "# print(\"mse : \", mean_squared_error(dataset_d.y[69:10000], soc_esti_save[69:10000]))\n",
    "# print(\"rmse : \", np.sqrt(mean_squared_error(dataset_d.y[69:10000], soc_esti_save[69:10000])))\n"
   ]
  },
  {
   "cell_type": "code",
   "execution_count": null,
   "metadata": {},
   "outputs": [],
   "source": [
    "# error_normal = np.zeros(9641)\n",
    "# error_fuzzy = np.zeros(9641)\n",
    "\n",
    "# for i in range(9641):\n",
    "#     error_nor = error_define(predictions[i+69], dataset_d.y[i+69])\n",
    "#     error_fuz = error_define(soc_esti_save[i+69], dataset_d.y[i+69])\n",
    "    \n",
    "#     error_normal[i] = error_nor\n",
    "#     error_fuzzy[i] = error_fuz\n",
    "\n",
    "# plt.figure(figsize=(10,4))\n",
    "# plt.plot(error_normal)\n",
    "# plt.plot(error_fuzzy)\n",
    "# # plt.ylim(-6,6)\n",
    "# # plt.title('Actual vs Forecast')\n",
    "# plt.legend(['normal', 'fuzzy'])\n",
    "# plt.xlabel('Time Steps')"
   ]
  },
  {
   "cell_type": "code",
   "execution_count": null,
   "metadata": {},
   "outputs": [],
   "source": []
  },
  {
   "cell_type": "code",
   "execution_count": null,
   "metadata": {},
   "outputs": [],
   "source": [
    "def fx(x_esti, idx):\n",
    "    # return A * x_esti + (dataset_d2.I[idx]*(1/44.72) / (1.648484097)) \n",
    "    return x_esti + (dataset_d2.I[idx]*100*(1.001287) / (1.653517646 *3600/0.8)) #US -> 1.648484097 / DST -> 1.594214 / FUDS->1.600182  / BJDST->1.653517646\n",
    "# US -> 1.007828486 / DST -> 1.00612 /  FUDS -> 1.009217  /  BJDST -> 1.001287"
   ]
  },
  {
   "cell_type": "markdown",
   "metadata": {},
   "source": [
    "여기까지 수정함"
   ]
  },
  {
   "cell_type": "code",
   "execution_count": null,
   "metadata": {},
   "outputs": [
    {
     "name": "stdout",
     "output_type": "stream",
     "text": [
      "torch.Size([11330])\n",
      "(11399, 1)\n",
      "45\n",
      "(11399, 1)\n",
      "torch.Size([11399])\n",
      "mae :  0.6131732070131588\n",
      "mse :  0.5341639916042947\n",
      "rmse :  0.7308652349129042\n"
     ]
    },
    {
     "data": {
      "image/png": "[encoded data removed]",
      "text/plain": [
       "<Figure size 1000x400 with 1 Axes>"
      ]
     },
     "metadata": {},
     "output_type": "display_data"
    }
   ],
   "source": [
    "# eval_dataset = StrideDataset(\"FUDS_80.csv\", 50, 20, 2586, stride=1)\n",
    "eval_dataset = StrideDataset(\"BJDST_80_45deg.csv\", 50, 20, 8295, stride=1)\n",
    "# eval_dataset = StrideDataset(\"DST_80.csv\", 50, 20, 1919, stride=1)\n",
    "# eval_dataset = StrideDataset(\"US06_80.csv\", 50, 20, 1207, stride=1)\n",
    "eval_dataloader = DataLoader(eval_dataset, batch_size=256, shuffle=False, drop_last=False)\n",
    "\n",
    "# \n",
    "# dataset_d = CustomDataset(\"FUDS_80.csv\", 2586)\n",
    "dataset_d = CustomDataset(\"BJDST_80_45deg.csv\", 8295)\n",
    "# dataset_d = CustomDataset(\"DST_80.csv\", 1919)\n",
    "# dataset_d = CustomDataset(\"US06_80.csv\", 1207)\n",
    "\n",
    "\n",
    "predictions_zerosum = torch.zeros(69)\n",
    "predictions_zerosum.shape\n",
    "predictions_zerosum\n",
    "\n",
    "model.eval()\n",
    "\n",
    "predictions = torch.Tensor(0)\n",
    "actual = torch.Tensor(0)\n",
    "cnt=0\n",
    "\n",
    "with torch.no_grad():\n",
    "    for (inputs_v, inputs_c, dec_inputs, outputs) in eval_dataloader:\n",
    "        src_mask_v = model.generate_square_subsequent_mask(inputs_v.shape[1]).to(device)\n",
    "        src_mask_c = model.generate_square_subsequent_mask(inputs_c.shape[1]).to(device)\n",
    "        tgt_mask = model.generate_square_subsequent_mask(dec_inputs.shape[1]).to(device)\n",
    "        \n",
    "        output = model(inputs_v.float().to(device), inputs_c.float().to(device), dec_inputs.float().to(device), src_mask_v, src_mask_v, tgt_mask)\n",
    "        output = output.permute(1,0,2)\n",
    "        \n",
    "        cnt=cnt+1\n",
    "        predictions = torch.cat((predictions, output[-1].view(-1).cpu()), 0) # view(-1) => 1차원으로 바꾼다 생각\n",
    "        actual = torch.cat((actual, outputs[-1].view(-1).cpu()), 0)\n",
    "\n",
    "\n",
    "print(predictions.shape)\n",
    "print(dataset_d.y.shape)\n",
    "print(cnt)\n",
    "\n",
    "predictions = torch.concat((predictions_zerosum, predictions),0)\n",
    "\n",
    "predictions = predictions * 80.0\n",
    "\n",
    "plt.figure(figsize=(10,4))\n",
    "plt.plot(dataset_d.y[69:], color='red', alpha=0.7)\n",
    "plt.plot(predictions[69:], color='blue', linewidth=0.7)\n",
    "plt.title('Actual vs Forecast')\n",
    "plt.legend(['Actual', 'Forecast'])\n",
    "plt.xlabel('Time Steps')\n",
    "# plt.xlim([2800,3000])\n",
    "# plt.ylim([56.5,60.5])\n",
    "\n",
    "\n",
    "from sklearn.metrics import mean_absolute_error, mean_squared_error\n",
    "\n",
    "print(dataset_d.y.shape)\n",
    "print(predictions.shape)\n",
    "\n",
    "print(\"mae : \", mean_absolute_error(dataset_d.y[69:10000], predictions[69:10000]))\n",
    "print(\"mse : \", mean_squared_error(dataset_d.y[69:10000], predictions[69:10000]))\n",
    "print(\"rmse : \", np.sqrt(mean_squared_error(dataset_d.y[69:10000], predictions[69:10000])))\n",
    "\n",
    "\n"
   ]
  },
  {
   "cell_type": "code",
   "execution_count": null,
   "metadata": {},
   "outputs": [],
   "source": [
    "# n_samples = 11211\n",
    "# # n_samples = 10690\n",
    "\n",
    "# soc_meas_save = np.zeros(n_samples)\n",
    "# soc_esti_save = np.zeros(n_samples)\n",
    "# test = np.zeros(n_samples)\n",
    "\n",
    "# dataset_d2 = CustomDataset2(\"BJDST_80.csv\", 1226)\n",
    "# # dataset_d2 = CustomDataset2(\"US06_80.csv\", 1207)\n",
    "\n",
    "# for i in range(n_samples):\n",
    "#     z_meas = np.array(predictions[i])\n",
    "#     if i<1:\n",
    "#         z_meas_prev = 80\n",
    "#     else:\n",
    "#         z_meas_prev = np.array(predictions[i-1])\n",
    "    \n",
    "#     # if i == 0:\n",
    "#     #     x_esti = w1*z_meas + w2*80\n",
    "#     # else:\n",
    "#     #     x_esti = w1*z_meas + w2*fx(dataset_d.y[i-1],i)\n",
    "\n",
    "#     x_esti = SOC_fuzzy(z_meas, z_meas_prev, i)\n",
    "\n",
    "#     soc_meas_save[i] = z_meas\n",
    "#     soc_esti_save[i] = x_esti\n",
    "# # for i in range(n_samples):\n",
    "# #     z_meas = np.array(predictions[i])\n",
    "# #     if i<1:\n",
    "# #         z_meas_prev = 80\n",
    "# #     else:\n",
    "# #         z_meas_prev = fx(z_meas_prev, i)\n",
    "    \n",
    "# #     # if i == 0:\n",
    "# #     #     x_esti = w1*z_meas + w2*80\n",
    "# #     # else:\n",
    "# #     #     x_esti = w1*z_meas + w2*fx(dataset_d.y[i-1],i)\n",
    "\n",
    "# #     x_esti = SOC_fuzzy(z_meas, z_meas_prev, i)\n",
    "\n",
    "# #     soc_meas_save[i] = z_meas\n",
    "# #     soc_esti_save[i] = x_esti\n",
    "# #     test[i] = z_meas_prev\n",
    "    \n",
    "# plt.figure(figsize=(10,4))\n",
    "\n",
    "# plt.plot(soc_meas_save[70:], label='Measurements(model soc)')\n",
    "# plt.plot(soc_esti_save[70:], label='fuzzy')\n",
    "# plt.plot(dataset_d.y[70:], label='actual data')\n",
    "# plt.legend(loc='upper right')\n",
    "# plt.title('fuzzy')\n",
    "# plt.xlabel('Time Steps')\n",
    "\n",
    "\n",
    "\n",
    "# print(\"mae : \", mean_absolute_error(dataset_d.y[70:10000], soc_esti_save[70:10000]))\n",
    "# print(\"mse : \", mean_squared_error(dataset_d.y[70:10000], soc_esti_save[70:10000]))\n",
    "# print(\"rmse : \", np.sqrt(mean_squared_error(dataset_d.y[70:10000], soc_esti_save[70:10000])))"
   ]
  },
  {
   "cell_type": "code",
   "execution_count": null,
   "metadata": {},
   "outputs": [
    {
     "name": "stdout",
     "output_type": "stream",
     "text": [
      "mae :  0.26298620114446547\n",
      "mse :  0.11110624369965882\n",
      "rmse :  0.33332603213619366\n"
     ]
    },
    {
     "data": {
      "image/png": "[encoded data removed]",
      "text/plain": [
       "<Figure size 1000x400 with 1 Axes>"
      ]
     },
     "metadata": {},
     "output_type": "display_data"
    }
   ],
   "source": [
    "n_samples = 11211\n",
    "# n_samples = 10690\n",
    "\n",
    "soc_meas_save = np.zeros(n_samples)\n",
    "soc_esti_save = np.zeros(n_samples)\n",
    "test = np.zeros(n_samples)\n",
    "\n",
    "dataset_d2 = CustomDataset2(\"BJDST_80.csv\", 1226)\n",
    "# dataset_d2 = CustomDataset2(\"US06_80.csv\", 1207)\n",
    "\n",
    "# for i in range(n_samples):\n",
    "#     z_meas = np.array(predictions[i])\n",
    "#     if i<1:\n",
    "#         z_meas_prev = 80\n",
    "#     else:\n",
    "#         z_meas_prev = np.array(predictions[i-1])\n",
    "    \n",
    "#     # if i == 0:\n",
    "#     #     x_esti = w1*z_meas + w2*80\n",
    "#     # else:\n",
    "#     #     x_esti = w1*z_meas + w2*fx(dataset_d.y[i-1],i)\n",
    "\n",
    "#     x_esti = SOC_fuzzy(z_meas, z_meas_prev, i)\n",
    "\n",
    "#     soc_meas_save[i] = z_meas\n",
    "#     soc_esti_save[i] = x_esti\n",
    "\n",
    "for i in range(n_samples):\n",
    "    z_meas = np.array(predictions[i])\n",
    "    if i<1:\n",
    "        z_meas_prev = 80\n",
    "    else:\n",
    "        z_meas_prev = fx(z_meas_prev, i)\n",
    "    \n",
    "    # if i == 0:\n",
    "    #     x_esti = w1*z_meas + w2*80\n",
    "    # else:\n",
    "    #     x_esti = w1*z_meas + w2*fx(dataset_d.y[i-1],i)\n",
    "\n",
    "    x_esti = SOC_fuzzy(z_meas, z_meas_prev, i)\n",
    "\n",
    "    soc_meas_save[i] = z_meas\n",
    "    soc_esti_save[i] = x_esti\n",
    "    test[i] = z_meas_prev\n",
    "    \n",
    "plt.figure(figsize=(10,4))\n",
    "\n",
    "plt.plot(soc_meas_save[69:], label='Measurements(model soc)')\n",
    "plt.plot(soc_esti_save[69:], label='fuzzy')\n",
    "plt.plot(dataset_d.y[69:], label='actual data')\n",
    "plt.legend(loc='upper right')\n",
    "plt.title('fuzzy')\n",
    "plt.xlabel('Time Steps')\n",
    "\n",
    "\n",
    "\n",
    "print(\"mae : \", mean_absolute_error(dataset_d.y[69:10000], soc_esti_save[69:10000]))\n",
    "print(\"mse : \", mean_squared_error(dataset_d.y[69:10000], soc_esti_save[69:10000]))\n",
    "print(\"rmse : \", np.sqrt(mean_squared_error(dataset_d.y[69:10000], soc_esti_save[69:10000])))\n"
   ]
  },
  {
   "cell_type": "code",
   "execution_count": null,
   "metadata": {},
   "outputs": [
    {
     "data": {
      "text/plain": [
       "Text(0.5, 0, 'Time Steps')"
      ]
     },
     "execution_count": 30,
     "metadata": {},
     "output_type": "execute_result"
    },
    {
     "data": {
      "image/png": "[encoded data removed]",
      "text/plain": [
       "<Figure size 1000x400 with 1 Axes>"
      ]
     },
     "metadata": {},
     "output_type": "display_data"
    }
   ],
   "source": [
    "error_normal = np.zeros(11142)\n",
    "error_fuzzy = np.zeros(11142)\n",
    "\n",
    "for i in range(11142):\n",
    "    error_nor = error_define(predictions[i+69], dataset_d.y[i+69])\n",
    "    error_fuz = error_define(soc_esti_save[i+69], dataset_d.y[i+69])\n",
    "    \n",
    "    error_normal[i] = error_nor\n",
    "    error_fuzzy[i] = error_fuz\n",
    "\n",
    "plt.figure(figsize=(10,4))\n",
    "plt.plot(error_normal)\n",
    "plt.plot(error_fuzzy)\n",
    "plt.ylim(-8,8)\n",
    "# plt.title('Actual vs Forecast')\n",
    "plt.legend(['normal', 'fuzzy'])\n",
    "plt.xlabel('Time Steps')"
   ]
  },
  {
   "cell_type": "code",
   "execution_count": null,
   "metadata": {},
   "outputs": [],
   "source": []
  },
  {
   "cell_type": "code",
   "execution_count": null,
   "metadata": {},
   "outputs": [],
   "source": [
    "n_samples = 10690\n",
    "\n",
    "soc_meas_save = np.zeros(n_samples)\n",
    "soc_esti_save = np.zeros(n_samples)"
   ]
  },
  {
   "cell_type": "code",
   "execution_count": null,
   "metadata": {},
   "outputs": [],
   "source": [
    "class CustomDataset2(Dataset):\n",
    "    def __init__(self, file_path, x_size):\n",
    "        df = pd.read_csv(file_path)\n",
    "        #print(df.isnull().sum())\n",
    "\n",
    "        self.I = df.iloc[x_size:, 6:7].values\n",
    "        #self.x = np.reshape(x, (x.shape[0], 1, x.shape[1]))\n",
    "        # self.y = df.iloc[x_size:, 13:14].values\n",
    "        \n",
    "        self.length = len(df) - x_size\n",
    "\n",
    "    #getitem이거 왜씀?\n",
    "    def __getitem__(self, index):\n",
    "        # x = torch.FloatTensor([self.x[index]])\n",
    "        # y = torch.FloatTensor([self.y[index]])\n",
    "        # return x, y\n",
    "        feature = torch.FloatTensor([self.x[index]])\n",
    "        # label = torch.FloatTensor(self.y[index])\n",
    "\n",
    "        return feature\n",
    "\n",
    "    def __len__(self):\n",
    "        return self.length"
   ]
  },
  {
   "cell_type": "code",
   "execution_count": null,
   "metadata": {},
   "outputs": [],
   "source": [
    "# dataset_d2 = CustomDataset2(\"FUDS_80.csv\", 2586)\n",
    "dataset_d2 = CustomDataset2(\"BJDST_80.csv\", 1226)\n",
    "# dataset_d2 = CustomDataset2(\"DST_80.csv\", 1919)\n",
    "# dataset_d2 = CustomDataset2(\"US06_80.csv\", 1207)"
   ]
  },
  {
   "cell_type": "code",
   "execution_count": null,
   "metadata": {},
   "outputs": [],
   "source": [
    "def fx(x_esti, idx):\n",
    "    # return A * x_esti + (dataset_d2.I[idx]*(1/44.72) / (1.648484097)) \n",
    "    return x_esti + (dataset_d2.I[idx]*100*(1.007922) / (1.648484097 *3600/0.8)) #US -> 1.648484097 / DST -> 1.594214 / FUDS->1.600182  / BJDST->1.653517646"
   ]
  },
  {
   "cell_type": "code",
   "execution_count": null,
   "metadata": {},
   "outputs": [],
   "source": [
    "# x_esti, P = None, None\n",
    "# for i in range(n_samples):\n",
    "#     z_meas = np.array(predictions[i])\n",
    "#     if i == 0:\n",
    "#         x_esti, P = x_0, P_0\n",
    "#     else:\n",
    "#         x_esti, P = unscented_kalman_filter(z_meas, x_esti, P, i)\n",
    "\n",
    "#     soc_meas_save[i] = z_meas\n",
    "#     soc_esti_save[i] = x_esti"
   ]
  },
  {
   "cell_type": "code",
   "execution_count": null,
   "metadata": {},
   "outputs": [
    {
     "name": "stdout",
     "output_type": "stream",
     "text": [
      "0.49999999999996697\n",
      "0.5000000000000331\n"
     ]
    }
   ],
   "source": [
    "w1, w2 = 0.2, 0.8\n",
    "for i in range(n_samples):\n",
    "    z_meas = np.array(predictions[i])\n",
    "    \n",
    "    if i == 0:\n",
    "        x_esti = w1*z_meas + w2*80\n",
    "    else:\n",
    "        x_esti = w1*z_meas + w2*fx(dataset_d.y[i-1],i)\n",
    "        \n",
    "    if i<3000:\n",
    "        w1 = w1+0.0001\n",
    "        w2 = w2-0.0001\n",
    "        \n",
    "    \n",
    "\n",
    "    soc_meas_save[i] = z_meas\n",
    "    soc_esti_save[i] = x_esti\n",
    "\n",
    "print(w1)\n",
    "print(w2)"
   ]
  },
  {
   "cell_type": "code",
   "execution_count": null,
   "metadata": {},
   "outputs": [],
   "source": [
    "# for i in range(n_samples):\n",
    "\n",
    "#     if i == 0:\n",
    "#         x_esti = 80\n",
    "#     else:\n",
    "#         x_esti = fx(dataset_d.y[i-1],i)\n",
    "\n",
    "#     soc_esti_save[i] = x_esti"
   ]
  },
  {
   "cell_type": "code",
   "execution_count": null,
   "metadata": {},
   "outputs": [
    {
     "name": "stdout",
     "output_type": "stream",
     "text": [
      "mae :  0.2544064824186517\n",
      "mse :  0.07994998113992054\n",
      "rmse :  0.282754276961323\n"
     ]
    },
    {
     "data": {
      "image/png": "[encoded data removed]",
      "text/plain": [
       "<Figure size 1000x500 with 1 Axes>"
      ]
     },
     "metadata": {},
     "output_type": "display_data"
    }
   ],
   "source": [
    "plt.figure(figsize=(10,5))\n",
    "\n",
    "plt.plot(soc_meas_save, label='Measurements(model soc)')\n",
    "plt.plot(soc_esti_save, label='Filter')\n",
    "plt.plot(dataset_d.y, label='actual data')\n",
    "plt.legend(loc='upper left')\n",
    "plt.title('Kalman Filter')\n",
    "plt.xlabel('Time Steps')\n",
    "\n",
    "\n",
    "\n",
    "# plt.xlim(7500, 8500)\n",
    "# plt.ylim(15, 24)\n",
    "\n",
    "print(\"mae : \", mean_absolute_error(dataset_d.y[69:10000], soc_esti_save[69:10000]))\n",
    "print(\"mse : \", mean_squared_error(dataset_d.y[69:10000], soc_esti_save[69:10000]))\n",
    "print(\"rmse : \", np.sqrt(mean_squared_error(dataset_d.y[69:10000], soc_esti_save[69:10000])))"
   ]
  },
  {
   "cell_type": "code",
   "execution_count": null,
   "metadata": {},
   "outputs": [],
   "source": []
  },
  {
   "cell_type": "code",
   "execution_count": null,
   "metadata": {},
   "outputs": [],
   "source": []
  },
  {
   "cell_type": "code",
   "execution_count": null,
   "metadata": {},
   "outputs": [],
   "source": [
    "n = len(predictions)\n",
    "k = np.arange(n)\n",
    "Fs = 1/0.0001\n",
    "T = n/Fs\n",
    "freq = k/T\n",
    "freq = freq[range(int(n/2))]"
   ]
  },
  {
   "cell_type": "code",
   "execution_count": null,
   "metadata": {},
   "outputs": [],
   "source": [
    "Y1 = np.fft.fft(predictions)/n\n",
    "Y1 = Y1[range(int(n/2))]\n",
    "Y2 = np.fft.fft(dataset_d.y)/n\n",
    "Y2 = Y2[range(int(n/2))]\n",
    "\n",
    "Y3 = abs(Y2)/abs(Y1)"
   ]
  },
  {
   "cell_type": "code",
   "execution_count": null,
   "metadata": {},
   "outputs": [
    {
     "name": "stderr",
     "output_type": "stream",
     "text": [
      "No artists with labels found to put in legend.  Note that artists whose label start with an underscore are ignored when legend() is called with no argument.\n"
     ]
    },
    {
     "data": {
      "text/plain": [
       "(0.0, 20.0)"
      ]
     },
     "execution_count": 41,
     "metadata": {},
     "output_type": "execute_result"
    },
    {
     "data": {
      "image/png": "[encoded data removed]",
      "text/plain": [
       "<Figure size 640x480 with 1 Axes>"
      ]
     },
     "metadata": {},
     "output_type": "display_data"
    }
   ],
   "source": [
    "plt.plot(freq, abs(Y1), 'b', linestyle=' ', marker='^')\n",
    "plt.plot(freq, abs(Y2), 'r', linestyle=' ', marker='^')\n",
    "plt.legend()\n",
    "plt.vlines(freq, [0],abs(Y1))\n",
    "plt.vlines(freq, [0],abs(Y2))\n",
    "plt.xlim([0, 20])\n",
    "# plt.plot(abs(Y))"
   ]
  },
  {
   "cell_type": "code",
   "execution_count": null,
   "metadata": {},
   "outputs": [
    {
     "data": {
      "text/plain": [
       "array([[0.00701777+0.j],\n",
       "       [0.00701764+0.j],\n",
       "       [0.00701667+0.j],\n",
       "       ...,\n",
       "       [0.00346115+0.j],\n",
       "       [0.00346082+0.j],\n",
       "       [0.00346076+0.j]])"
      ]
     },
     "execution_count": 42,
     "metadata": {},
     "output_type": "execute_result"
    }
   ],
   "source": [
    "Y2"
   ]
  },
  {
   "cell_type": "code",
   "execution_count": null,
   "metadata": {},
   "outputs": [
    {
     "data": {
      "text/plain": [
       "(0.0, 100.0)"
      ]
     },
     "execution_count": 43,
     "metadata": {},
     "output_type": "execute_result"
    },
    {
     "data": {
      "image/png": "[encoded data removed]",
      "text/plain": [
       "<Figure size 640x480 with 1 Axes>"
      ]
     },
     "metadata": {},
     "output_type": "display_data"
    }
   ],
   "source": [
    "plt.plot(freq, abs(Y3), 'g', linestyle=' ', marker='^')\n",
    "# plt.vlines(freq, [0],abs(Y3))\n",
    "plt.xlim([0, 100])\n"
   ]
  },
  {
   "cell_type": "code",
   "execution_count": null,
   "metadata": {},
   "outputs": [],
   "source": [
    "class CustomDataset2(Dataset):\n",
    "    def __init__(self, file_path, x_size):\n",
    "        df = pd.read_csv(file_path)\n",
    "        #print(df.isnull().sum())\n",
    "\n",
    "        self.I = df.iloc[x_size:, 6:7].values\n",
    "        #self.x = np.reshape(x, (x.shape[0], 1, x.shape[1]))\n",
    "        # self.y = df.iloc[x_size:, 13:14].values\n",
    "        \n",
    "        self.length = len(df) - x_size\n",
    "\n",
    "    #getitem이거 왜씀?\n",
    "    def __getitem__(self, index):\n",
    "        # x = torch.FloatTensor([self.x[index]])\n",
    "        # y = torch.FloatTensor([self.y[index]])\n",
    "        # return x, y\n",
    "        feature = torch.FloatTensor([self.x[index]])\n",
    "        # label = torch.FloatTensor(self.y[index])\n",
    "\n",
    "        return feature\n",
    "\n",
    "    def __len__(self):\n",
    "        return self.length"
   ]
  },
  {
   "cell_type": "code",
   "execution_count": null,
   "metadata": {},
   "outputs": [],
   "source": [
    "# A = 1\n",
    "\n",
    "# dataset_d2 = CustomDataset2(\"US06_80.csv\", 1207)\n",
    "\n",
    "# dataset_d2.I\n",
    "\n",
    "# # test = np.zeros(10690)\n",
    "\n",
    "# # test = dataset_d2.I// 1.648484097\n",
    "\n",
    "# # plt.plot(test)\n",
    "\n",
    "# def fx(x_esti, idx):\n",
    "#     # return A * x_esti + (dataset_d2.I[idx]*(1/44.72) / (1.648484097)) \n",
    "#     return x_esti + (dataset_d2.I[idx]*100*(1.007922) / (1.648484097*3600/0.8)) \n",
    "\n",
    "\n",
    "\n",
    "# soc_func = np.zeros(10690)\n",
    "\n",
    "# x_esti = None\n",
    "# for i in range(10690):\n",
    "#     if i == 0:\n",
    "#         x_esti = 80\n",
    "#     else:\n",
    "#         x_esti = fx(x_esti, i)\n",
    "        \n",
    "#     soc_func[i] = x_esti\n",
    "    \n"
   ]
  },
  {
   "cell_type": "code",
   "execution_count": null,
   "metadata": {},
   "outputs": [],
   "source": [
    "# soc_func[10680:10690]"
   ]
  },
  {
   "cell_type": "code",
   "execution_count": null,
   "metadata": {},
   "outputs": [],
   "source": [
    "# plt.figure(figsize=(10,10))\n",
    "# plt.plot(soc_func, label='Measurements(model soc)')\n",
    "# plt.plot(dataset_d.y, color='red', alpha=0.7)\n",
    "# plt.legend(['Actual', 'coulomb counting'])\n",
    "\n",
    "# # # plt.xlim(0,200)\n",
    "# # plt.ylim(0,100)"
   ]
  },
  {
   "cell_type": "code",
   "execution_count": null,
   "metadata": {},
   "outputs": [],
   "source": [
    "# from sklearn.metrics import mean_absolute_error \n",
    "\n",
    "# print(dataset_d.y.shape)\n",
    "# print(predictions.shape)\n",
    "\n",
    "# mean_absolute_error(dataset_d.y[:10000], soc_func[:10000])"
   ]
  },
  {
   "cell_type": "markdown",
   "metadata": {},
   "source": [
    "칼만필터 적용 (전류적산 / 모델 예측)"
   ]
  },
  {
   "cell_type": "code",
   "execution_count": null,
   "metadata": {},
   "outputs": [],
   "source": [
    "# def kalman_filter(z_meas, x_esti, P):\n",
    "#     \"\"\"Kalman Filter Algorithm for One Variable.\"\"\"\n",
    "#     # (1) Prediction.\n",
    "#     x_pred = A * x_esti\n",
    "#     P_pred = A * P * A + Q\n",
    "\n",
    "#     # (2) Kalman Gain.\n",
    "#     K = P_pred * H / (H * P_pred * H + R)\n",
    "\n",
    "#     # (3) Estimation.\n",
    "#     x_esti = x_pred + K * (z_meas - H * x_pred)\n",
    "\n",
    "#     # (4) Error Covariance.\n",
    "#     P = P_pred - K * H * P_pred\n",
    "\n",
    "#     return x_esti, P"
   ]
  },
  {
   "cell_type": "code",
   "execution_count": null,
   "metadata": {},
   "outputs": [],
   "source": [
    "# # Initialization for system model.\n",
    "# A = 1\n",
    "# H = 1\n",
    "# Q = 0.00000005\n",
    "# R = 0.00001\n",
    "# # Initialization for estimation.\n",
    "# x_0 = 80\n",
    "# P_0 = 10"
   ]
  },
  {
   "cell_type": "code",
   "execution_count": null,
   "metadata": {},
   "outputs": [],
   "source": [
    "# n_samples = 10621\n",
    "\n",
    "# soc_meas_save = np.zeros(n_samples)\n",
    "# soc_esti_save = np.zeros(n_samples)"
   ]
  },
  {
   "cell_type": "code",
   "execution_count": null,
   "metadata": {},
   "outputs": [],
   "source": [
    "# x_esti, P = None, None\n",
    "# for i in range(n_samples):\n",
    "#     z_meas = predictions[i]\n",
    "#     if i == 0:\n",
    "#         x_esti, P = x_0, P_0\n",
    "#     else:\n",
    "#         x_esti, P = kalman_filter(z_meas, x_esti, P)\n",
    "\n",
    "#     soc_meas_save[i] = z_meas\n",
    "#     soc_esti_save[i] = x_esti"
   ]
  },
  {
   "cell_type": "code",
   "execution_count": null,
   "metadata": {},
   "outputs": [],
   "source": [
    "# plt.plot(soc_meas_save, label='Measurements(model soc)')\n",
    "# plt.plot(soc_esti_save, label='Kalman Filter')\n",
    "# plt.plot(dataset_d.y, label='actual data')\n",
    "# plt.legend(loc='upper left')\n",
    "# plt.title('Kalman Filter')\n",
    "# plt.xlabel('Time Steps')\n",
    "\n",
    "# plt.xlim(5200, 5400)\n",
    "# plt.ylim(39, 41)"
   ]
  },
  {
   "cell_type": "code",
   "execution_count": null,
   "metadata": {},
   "outputs": [],
   "source": [
    "# mean_absolute_error(dataset_d.y[:10000], soc_esti_save[:10000])"
   ]
  },
  {
   "cell_type": "markdown",
   "metadata": {},
   "source": [
    "확장칼만필터"
   ]
  },
  {
   "cell_type": "code",
   "execution_count": null,
   "metadata": {},
   "outputs": [],
   "source": [
    "# class CustomDataset2(Dataset):\n",
    "#     def __init__(self, file_path, x_size):\n",
    "#         df = pd.read_csv(file_path)\n",
    "#         #print(df.isnull().sum())\n",
    "\n",
    "#         self.I = df.iloc[x_size:, 6:7].values\n",
    "#         #self.x = np.reshape(x, (x.shape[0], 1, x.shape[1]))\n",
    "#         # self.y = df.iloc[x_size:, 13:14].values\n",
    "        \n",
    "#         self.length = len(df) - x_size\n",
    "\n",
    "#     #getitem이거 왜씀?\n",
    "#     def __getitem__(self, index):\n",
    "#         # x = torch.FloatTensor([self.x[index]])\n",
    "#         # y = torch.FloatTensor([self.y[index]])\n",
    "#         # return x, y\n",
    "#         feature = torch.FloatTensor([self.x[index]])\n",
    "#         # label = torch.FloatTensor(self.y[index])\n",
    "\n",
    "#         return feature\n",
    "\n",
    "#     def __len__(self):\n",
    "#         return self.length"
   ]
  },
  {
   "cell_type": "code",
   "execution_count": null,
   "metadata": {},
   "outputs": [],
   "source": [
    "# dataset_d2 = CustomDataset2(\"US06_80.csv\", 1207)\n",
    "\n",
    "# dataset_d2.I"
   ]
  },
  {
   "cell_type": "code",
   "execution_count": null,
   "metadata": {},
   "outputs": [],
   "source": [
    "# def Ajacob_at(x_esti):\n",
    "#     return A\n",
    "\n",
    "\n",
    "# def Hjacob_at(x_pred):\n",
    "#     return H\n",
    "\n",
    "\n",
    "# def fx(x_esti, idx):\n",
    "#     # return A * x_esti + (dataset_d2.I[idx]*(1/44.72) / (1.648484097)) \n",
    "#     return x_esti + (dataset_d2.I[idx]*100*(1.007922) / (1.648484097*3600/0.8)) \n",
    "\n",
    "\n",
    "# def hx(x_pred):\n",
    "#     return x_pred\n",
    "\n",
    "\n",
    "# def extended_kalman_filter(z_meas, x_esti, P):\n",
    "#     \"\"\"Extended Kalman Filter Algorithm.\"\"\"\n",
    "#     # (1) Prediction.\n",
    "#     A = Ajacob_at(x_esti)\n",
    "#     x_pred = fx(x_esti)\n",
    "#     P_pred = A @ P @ A.T + Q\n",
    "\n",
    "#     # (2) Kalman Gain.\n",
    "#     H = Hjacob_at(x_pred)\n",
    "#     K = P_pred @ H.T @ inv(H @ P_pred @ H.T + R)\n",
    "\n",
    "#     # (3) Estimation.\n",
    "#     x_esti = x_pred + K @ (z_meas - hx(x_pred))\n",
    "\n",
    "#     # (4) Error Covariance.\n",
    "#     P = P_pred - K @ H @ P_pred\n",
    "\n",
    "#     return x_esti, P"
   ]
  },
  {
   "cell_type": "code",
   "execution_count": null,
   "metadata": {},
   "outputs": [],
   "source": [
    "# # Initialization for system model.\n",
    "# A = 1\n",
    "# H = 1\n",
    "# Q = 0.00000001\n",
    "# R = 0.000001\n",
    "\n",
    "\n",
    "\n",
    "# # Initialization for estimation.\n",
    "# x_0 = 80\n",
    "# P_0 = 10"
   ]
  },
  {
   "cell_type": "code",
   "execution_count": null,
   "metadata": {},
   "outputs": [],
   "source": [
    "# n_samples = 10621\n",
    "\n",
    "# soc_meas_save = np.zeros(n_samples)\n",
    "# soc_esti_save = np.zeros(n_samples)"
   ]
  },
  {
   "cell_type": "code",
   "execution_count": null,
   "metadata": {},
   "outputs": [],
   "source": [
    "# x_esti, P = None, None\n",
    "# for i in range(n_samples):\n",
    "#     z_meas = predictions[i]\n",
    "#     if i == 0:\n",
    "#         x_esti, P = x_0, P_0\n",
    "#     else:\n",
    "#         x_esti, P = kalman_filter(z_meas, x_esti, P)\n",
    "\n",
    "#     soc_meas_save[i] = z_meas\n",
    "#     soc_esti_save[i] = x_esti"
   ]
  },
  {
   "cell_type": "code",
   "execution_count": null,
   "metadata": {},
   "outputs": [],
   "source": [
    "# plt.plot(soc_meas_save, label='Measurements(model soc)')\n",
    "# plt.plot(soc_esti_save, label='Kalman Filter')\n",
    "# plt.plot(dataset_d.y, label='actual data')\n",
    "# plt.legend(loc='upper left')\n",
    "# plt.title('Kalman Filter')\n",
    "# plt.xlabel('Time Steps')\n",
    "\n",
    "# plt.xlim(3000, 4000)\n",
    "# plt.ylim(50, 58)"
   ]
  },
  {
   "cell_type": "code",
   "execution_count": null,
   "metadata": {},
   "outputs": [],
   "source": [
    "# mean_absolute_error(dataset_d.y[:10000], soc_esti_save[:10000])"
   ]
  },
  {
   "cell_type": "markdown",
   "metadata": {},
   "source": [
    "무향 칼만 필터(Unscented Kalman Filter)"
   ]
  },
  {
   "cell_type": "code",
   "execution_count": null,
   "metadata": {},
   "outputs": [],
   "source": [
    "from numpy.linalg import inv, cholesky"
   ]
  },
  {
   "cell_type": "code",
   "execution_count": null,
   "metadata": {},
   "outputs": [],
   "source": [
    "def sigma_points(mu, Sigma, kappa):\n",
    "    n = 1\n",
    "    Xi = np.zeros((n, 2*n+1))\n",
    "    W = np.zeros(2*n+1)\n",
    "    \n",
    "    Xi[:, 0] = mu\n",
    "    W[0] = kappa / (n + kappa)\n",
    "    \n",
    "    U = cholesky((n + kappa)*Sigma)\n",
    "    \n",
    "    for i in range(n):\n",
    "        Xi[:, i+1]   = mu + U[:, i]\n",
    "        Xi[:, n+i+1] = mu - U[:, i]\n",
    "        W[i+1]       = 1 / (2*(n+kappa))\n",
    "        W[n+i+1]     = W[i+1]\n",
    "        \n",
    "    return Xi, W"
   ]
  },
  {
   "cell_type": "code",
   "execution_count": null,
   "metadata": {},
   "outputs": [],
   "source": [
    "def UT(Xi, W, noiseCov):\n",
    "    mean = np.sum(W * Xi, axis=1)\n",
    "    cov = W * (Xi - mean.reshape(-1, 1)) @ (Xi  - mean.reshape(-1, 1)).T\n",
    "    return mean, cov + noiseCov"
   ]
  },
  {
   "cell_type": "code",
   "execution_count": null,
   "metadata": {},
   "outputs": [
    {
     "data": {
      "text/plain": [
       "array([[-0.11091334],\n",
       "       [-0.11109395],\n",
       "       [-0.83389229],\n",
       "       ...,\n",
       "       [-1.1113081 ],\n",
       "       [-1.1113081 ],\n",
       "       [-1.1114887 ]])"
      ]
     },
     "execution_count": 66,
     "metadata": {},
     "output_type": "execute_result"
    }
   ],
   "source": [
    "# dataset_d2 = CustomDataset2(\"FUDS_80.csv\", 2586)\n",
    "dataset_d2 = CustomDataset2(\"BJDST_80.csv\", 1226)\n",
    "# dataset_d2 = CustomDataset2(\"DST_80.csv\", 1919)\n",
    "\n",
    "dataset_d2.I"
   ]
  },
  {
   "cell_type": "code",
   "execution_count": null,
   "metadata": {},
   "outputs": [],
   "source": [
    "def fx(x_esti, idx):\n",
    "    # return A * x_esti + (dataset_d2.I[idx]*(1/44.72) / (1.648484097)) \n",
    "    return x_esti + (dataset_d2.I[idx]*100*(1.007922) / (1.653517646 *3600/0.8)) #US -> 1.648484097 / DST -> 1.594214 / FUDS->1.600182  / BJDST->1.653517646\n",
    "\n",
    "\n",
    "def hx(x_pred):\n",
    "    return x_pred"
   ]
  },
  {
   "cell_type": "code",
   "execution_count": null,
   "metadata": {},
   "outputs": [],
   "source": [
    "def unscented_kalman_filter(z_meas, x_esti, P, idx):\n",
    "    \"\"\"Unscented Kalman Filter Algorithm.\"\"\"\n",
    "    # (1) Sample Sigma Points and Weights.\n",
    "    Xi, W = sigma_points(x_esti, P, kappa)\n",
    "\n",
    "    # (2) Predict Mean and Error Covariance of States.\n",
    "    #fXi = fx(Xi) + (dataset_d.y[idx]-x_esti)\n",
    "    fXi = fx(Xi, idx) \n",
    "    x_pred, P_x = UT(fXi, W, Q)\n",
    "\n",
    "    # (3) Calculate Mean and Error Covariance for the Expected Observation.\n",
    "    hXi = hx(fXi)\n",
    "    z_pred, P_z = UT(hXi, W, R)\n",
    "\n",
    "    # (4) Calculate Off Diagonal Elements of Error Covariance and Kalman Gain.\n",
    "    Pxz = W * (fXi - x_pred.reshape(-1, 1)) @ (hXi - z_pred.reshape(-1, 1)).T\n",
    "    K = Pxz @ inv(P_z)\n",
    "\n",
    "    # (5) Estimate Mean and Error Covariance of States. \n",
    "    x_esti = x_pred + K @ (z_meas - z_pred)\n",
    "    P = P_x - K @ P_z @ K.T\n",
    "\n",
    "    return x_esti, P\n",
    "\n"
   ]
  },
  {
   "cell_type": "code",
   "execution_count": null,
   "metadata": {},
   "outputs": [],
   "source": [
    "# Initialization for system model.\n",
    "# Matrix: A, H, Q, R, P_0\n",
    "# Vector: x_0\n",
    "# A = np.eye(3) + dt * np.array([[0, 1, 0],\n",
    "#                                [0, 0, 0],\n",
    "#                                [0, 0, 0]])\n",
    "A = 1\n",
    "Q = (10**(-5)) * 1\n",
    "R = (10**(-1)) * 5\n",
    "\n",
    "# Initialization for estimation.\n",
    "x_0 = 80\n",
    "P_0 = 10 * np.eye(1) # p_0 = 10\n",
    "\n",
    "# Initialization for sigma points.\n",
    "kappa = 2"
   ]
  },
  {
   "cell_type": "code",
   "execution_count": null,
   "metadata": {},
   "outputs": [],
   "source": [
    "n_samples = 10537\n",
    "\n",
    "soc_meas_save = np.zeros(n_samples)\n",
    "soc_esti_save = np.zeros(n_samples)"
   ]
  },
  {
   "cell_type": "code",
   "execution_count": null,
   "metadata": {},
   "outputs": [],
   "source": [
    "x_esti, P = None, None\n",
    "for i in range(n_samples):\n",
    "    z_meas = np.array(predictions[i])\n",
    "    if i == 0:\n",
    "        x_esti, P = x_0, P_0\n",
    "    else:\n",
    "        x_esti, P = unscented_kalman_filter(z_meas, x_esti, P, i)\n",
    "\n",
    "    soc_meas_save[i] = z_meas\n",
    "    soc_esti_save[i] = x_esti"
   ]
  },
  {
   "cell_type": "code",
   "execution_count": null,
   "metadata": {},
   "outputs": [
    {
     "data": {
      "text/plain": [
       "Text(0.5, 0, 'Time Steps')"
      ]
     },
     "execution_count": 72,
     "metadata": {},
     "output_type": "execute_result"
    },
    {
     "data": {
      "image/png": "[encoded data removed]",
      "text/plain": [
       "<Figure size 1000x500 with 1 Axes>"
      ]
     },
     "metadata": {},
     "output_type": "display_data"
    }
   ],
   "source": [
    "plt.figure(figsize=(10,5))\n",
    "\n",
    "plt.plot(soc_meas_save, label='Measurements(model soc)')\n",
    "plt.plot(soc_esti_save, label='Kalman Filter')\n",
    "plt.plot(dataset_d.y, label='actual data')\n",
    "plt.legend(loc='upper left')\n",
    "plt.title('Kalman Filter')\n",
    "plt.xlabel('Time Steps')\n",
    "\n",
    "\n",
    "\n",
    "# plt.xlim(7500, 8500)\n",
    "# plt.ylim(15, 24)"
   ]
  },
  {
   "cell_type": "code",
   "execution_count": null,
   "metadata": {},
   "outputs": [
    {
     "name": "stdout",
     "output_type": "stream",
     "text": [
      "mae :  1.9388193482990341\n",
      "mse :  73.32761219525815\n",
      "rmse :  8.563154336765054\n"
     ]
    }
   ],
   "source": [
    "print(\"mae : \", mean_absolute_error(dataset_d.y[:10000], soc_esti_save[:10000]))\n",
    "print(\"mse : \", mean_squared_error(dataset_d.y[:10000], soc_esti_save[:10000]))\n",
    "print(\"rmse : \", np.sqrt(mean_squared_error(dataset_d.y[:10000], soc_esti_save[:10000])))"
   ]
  },
  {
   "cell_type": "markdown",
   "metadata": {},
   "source": [
    "+"
   ]
  },
  {
   "cell_type": "code",
   "execution_count": null,
   "metadata": {},
   "outputs": [],
   "source": [
    "# # Initialization for system model.\n",
    "# A = 1\n",
    "# H = 1\n",
    "# Q = 0.00000001\n",
    "# R = 0.00001\n",
    "\n",
    "\n",
    "\n",
    "# # Initialization for estimation.\n",
    "# x_0 = 80\n",
    "# P_0 = 10"
   ]
  },
  {
   "cell_type": "code",
   "execution_count": null,
   "metadata": {},
   "outputs": [],
   "source": [
    "# x_esti, P = None, None\n",
    "# for i in range(n_samples):\n",
    "#     z_meas = soc_esti_save[i]\n",
    "#     if i == 0:\n",
    "#         x_esti, P = x_0, P_0\n",
    "#     else:\n",
    "#         x_esti, P = kalman_filter(z_meas, x_esti, P)\n",
    "\n",
    "#     soc_meas_save[i] = z_meas\n",
    "#     soc_esti_save[i] = x_esti"
   ]
  },
  {
   "cell_type": "code",
   "execution_count": null,
   "metadata": {},
   "outputs": [],
   "source": [
    "# plt.plot(soc_meas_save, label='Measurements(model soc)')\n",
    "# plt.plot(soc_esti_save, label='Kalman Filter')\n",
    "# plt.plot(dataset_d.y, label='actual data')\n",
    "# plt.legend(loc='upper left')\n",
    "# plt.title('Kalman Filter')\n",
    "# plt.xlabel('Time Steps')\n",
    "\n",
    "\n",
    "# plt.xlim(4000, 5000)\n",
    "# plt.ylim(42, 50)"
   ]
  },
  {
   "cell_type": "code",
   "execution_count": null,
   "metadata": {},
   "outputs": [],
   "source": [
    "# mean_absolute_error(dataset_d.y[:10000], soc_esti_save[:10000])"
   ]
  }
 ],
 "metadata": {
  "kernelspec": {
   "display_name": "Python 3",
   "language": "python",
   "name": "python3"
  },
  "language_info": {
   "codemirror_mode": {
    "name": "ipython",
    "version": 3
   },
   "file_extension": ".py",
   "mimetype": "text/x-python",
   "name": "python",
   "nbconvert_exporter": "python",
   "pygments_lexer": "ipython3",
   "version": "3.10.9"
  },
  "orig_nbformat": 4
 },
 "nbformat": 4,
 "nbformat_minor": 2
}
